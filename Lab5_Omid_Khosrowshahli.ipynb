{
 "cells": [
  {
   "cell_type": "code",
   "execution_count": 318,
   "id": "a07f4c20-b9fd-4abe-9171-49a2b9f2ff62",
   "metadata": {
    "id": "a07f4c20-b9fd-4abe-9171-49a2b9f2ff62"
   },
   "outputs": [],
   "source": [
    "from sklearn.datasets import fetch_openml\n",
    "\n",
    "mnist = fetch_openml('mnist_784', version=1, as_frame=False)"
   ]
  },
  {
   "cell_type": "code",
   "execution_count": 320,
   "id": "476ba99a-f328-41b2-8585-ded2ab0a92a1",
   "metadata": {
    "id": "476ba99a-f328-41b2-8585-ded2ab0a92a1"
   },
   "outputs": [],
   "source": [
    "X, y = mnist.data, mnist.target"
   ]
  },
  {
   "cell_type": "code",
   "execution_count": 322,
   "id": "-W6kvoPgO6kh",
   "metadata": {
    "id": "-W6kvoPgO6kh"
   },
   "outputs": [],
   "source": [
    "from sklearn.model_selection import StratifiedShuffleSplit\n",
    "\n",
    "strat_object = StratifiedShuffleSplit(n_splits=1, train_size=20000, test_size=3000, random_state=42)\n",
    "\n",
    "for train_index, test_index in strat_object.split(X, y):\n",
    "    X_train_subset = X[train_index]\n",
    "    y_train_subset = y[train_index]\n",
    "    X_test_subset = X[test_index]\n",
    "    y_test_subset = y[test_index]"
   ]
  },
  {
   "cell_type": "markdown",
   "id": "4st5llXqS7TR",
   "metadata": {
    "id": "4st5llXqS7TR"
   },
   "source": [
    "# **K-Nearest Neighbors Randomized Search**"
   ]
  },
  {
   "cell_type": "code",
   "execution_count": 5,
   "id": "W087OH0vTFnk",
   "metadata": {
    "colab": {
     "base_uri": "https://localhost:8080/"
    },
    "id": "W087OH0vTFnk",
    "outputId": "cc8ef298-8a82-4ded-f73e-aa9409e8a1bc"
   },
   "outputs": [
    {
     "name": "stdout",
     "output_type": "stream",
     "text": [
      "Fitting 3 folds for each of 15 candidates, totalling 45 fits\n",
      "[CV 1/3] END n_neighbors=8, weights=distance; accuracy: (test=0.953) f1: (test=0.953) precision: (test=0.954) recall: (test=0.952) total time=   3.3s\n",
      "[CV 2/3] END n_neighbors=8, weights=distance; accuracy: (test=0.949) f1: (test=0.949) precision: (test=0.950) recall: (test=0.948) total time=   2.9s\n",
      "[CV 3/3] END n_neighbors=8, weights=distance; accuracy: (test=0.955) f1: (test=0.955) precision: (test=0.956) recall: (test=0.954) total time=   2.9s\n",
      "[CV 1/3] END n_neighbors=14, weights=uniform; accuracy: (test=0.943) f1: (test=0.943) precision: (test=0.945) recall: (test=0.942) total time=   3.2s\n",
      "[CV 2/3] END n_neighbors=14, weights=uniform; accuracy: (test=0.940) f1: (test=0.940) precision: (test=0.942) recall: (test=0.939) total time=   3.4s\n",
      "[CV 3/3] END n_neighbors=14, weights=uniform; accuracy: (test=0.942) f1: (test=0.942) precision: (test=0.944) recall: (test=0.942) total time=   3.2s\n",
      "[CV 1/3] END n_neighbors=12, weights=distance; accuracy: (test=0.948) f1: (test=0.948) precision: (test=0.950) recall: (test=0.948) total time=   2.9s\n",
      "[CV 2/3] END n_neighbors=12, weights=distance; accuracy: (test=0.945) f1: (test=0.945) precision: (test=0.947) recall: (test=0.944) total time=   3.0s\n",
      "[CV 3/3] END n_neighbors=12, weights=distance; accuracy: (test=0.949) f1: (test=0.949) precision: (test=0.951) recall: (test=0.948) total time=   3.2s\n",
      "[CV 1/3] END n_neighbors=14, weights=uniform; accuracy: (test=0.943) f1: (test=0.943) precision: (test=0.945) recall: (test=0.942) total time=   3.2s\n",
      "[CV 2/3] END n_neighbors=14, weights=uniform; accuracy: (test=0.940) f1: (test=0.940) precision: (test=0.942) recall: (test=0.939) total time=   3.3s\n",
      "[CV 3/3] END n_neighbors=14, weights=uniform; accuracy: (test=0.942) f1: (test=0.942) precision: (test=0.944) recall: (test=0.942) total time=   3.2s\n",
      "[CV 1/3] END n_neighbors=8, weights=distance; accuracy: (test=0.953) f1: (test=0.953) precision: (test=0.954) recall: (test=0.952) total time=   3.2s\n",
      "[CV 2/3] END n_neighbors=8, weights=distance; accuracy: (test=0.949) f1: (test=0.949) precision: (test=0.950) recall: (test=0.948) total time=   2.9s\n",
      "[CV 3/3] END n_neighbors=8, weights=distance; accuracy: (test=0.955) f1: (test=0.955) precision: (test=0.956) recall: (test=0.954) total time=   2.9s\n",
      "[CV 1/3] END n_neighbors=4, weights=uniform; accuracy: (test=0.954) f1: (test=0.953) precision: (test=0.955) recall: (test=0.953) total time=   3.2s\n",
      "[CV 2/3] END n_neighbors=4, weights=uniform; accuracy: (test=0.948) f1: (test=0.947) precision: (test=0.949) recall: (test=0.947) total time=   3.5s\n",
      "[CV 3/3] END n_neighbors=4, weights=uniform; accuracy: (test=0.953) f1: (test=0.953) precision: (test=0.955) recall: (test=0.953) total time=   3.2s\n",
      "[CV 1/3] END n_neighbors=12, weights=uniform; accuracy: (test=0.946) f1: (test=0.946) precision: (test=0.948) recall: (test=0.945) total time=   3.2s\n",
      "[CV 2/3] END n_neighbors=12, weights=uniform; accuracy: (test=0.942) f1: (test=0.942) precision: (test=0.944) recall: (test=0.941) total time=   3.3s\n",
      "[CV 3/3] END n_neighbors=12, weights=uniform; accuracy: (test=0.946) f1: (test=0.946) precision: (test=0.948) recall: (test=0.946) total time=   3.5s\n",
      "[CV 1/3] END n_neighbors=9, weights=uniform; accuracy: (test=0.949) f1: (test=0.949) precision: (test=0.951) recall: (test=0.948) total time=   3.2s\n",
      "[CV 2/3] END n_neighbors=9, weights=uniform; accuracy: (test=0.943) f1: (test=0.943) precision: (test=0.945) recall: (test=0.943) total time=   3.3s\n",
      "[CV 3/3] END n_neighbors=9, weights=uniform; accuracy: (test=0.950) f1: (test=0.950) precision: (test=0.951) recall: (test=0.949) total time=   3.3s\n",
      "[CV 1/3] END n_neighbors=5, weights=distance; accuracy: (test=0.954) f1: (test=0.953) precision: (test=0.955) recall: (test=0.953) total time=   2.9s\n",
      "[CV 2/3] END n_neighbors=5, weights=distance; accuracy: (test=0.952) f1: (test=0.952) precision: (test=0.953) recall: (test=0.951) total time=   2.9s\n",
      "[CV 3/3] END n_neighbors=5, weights=distance; accuracy: (test=0.957) f1: (test=0.957) precision: (test=0.958) recall: (test=0.957) total time=   2.9s\n",
      "[CV 1/3] END n_neighbors=9, weights=uniform; accuracy: (test=0.949) f1: (test=0.949) precision: (test=0.951) recall: (test=0.948) total time=   3.2s\n",
      "[CV 2/3] END n_neighbors=9, weights=uniform; accuracy: (test=0.943) f1: (test=0.943) precision: (test=0.945) recall: (test=0.943) total time=   3.3s\n",
      "[CV 3/3] END n_neighbors=9, weights=uniform; accuracy: (test=0.950) f1: (test=0.950) precision: (test=0.951) recall: (test=0.949) total time=   3.2s\n",
      "[CV 1/3] END n_neighbors=7, weights=uniform; accuracy: (test=0.951) f1: (test=0.951) precision: (test=0.953) recall: (test=0.951) total time=   3.2s\n",
      "[CV 2/3] END n_neighbors=7, weights=uniform; accuracy: (test=0.946) f1: (test=0.946) precision: (test=0.947) recall: (test=0.945) total time=   3.5s\n",
      "[CV 3/3] END n_neighbors=7, weights=uniform; accuracy: (test=0.952) f1: (test=0.952) precision: (test=0.954) recall: (test=0.952) total time=   3.2s\n",
      "[CV 1/3] END n_neighbors=3, weights=distance; accuracy: (test=0.957) f1: (test=0.957) precision: (test=0.958) recall: (test=0.957) total time=   2.7s\n",
      "[CV 2/3] END n_neighbors=3, weights=distance; accuracy: (test=0.952) f1: (test=0.952) precision: (test=0.953) recall: (test=0.952) total time=   2.7s\n",
      "[CV 3/3] END n_neighbors=3, weights=distance; accuracy: (test=0.958) f1: (test=0.958) precision: (test=0.959) recall: (test=0.958) total time=   2.8s\n",
      "[CV 1/3] END n_neighbors=13, weights=distance; accuracy: (test=0.947) f1: (test=0.947) precision: (test=0.949) recall: (test=0.946) total time=   2.9s\n",
      "[CV 2/3] END n_neighbors=13, weights=distance; accuracy: (test=0.943) f1: (test=0.943) precision: (test=0.945) recall: (test=0.942) total time=   3.0s\n",
      "[CV 3/3] END n_neighbors=13, weights=distance; accuracy: (test=0.947) f1: (test=0.947) precision: (test=0.949) recall: (test=0.946) total time=   3.0s\n",
      "[CV 1/3] END n_neighbors=7, weights=distance; accuracy: (test=0.953) f1: (test=0.953) precision: (test=0.954) recall: (test=0.952) total time=   2.9s\n",
      "[CV 2/3] END n_neighbors=7, weights=distance; accuracy: (test=0.948) f1: (test=0.948) precision: (test=0.949) recall: (test=0.948) total time=   3.0s\n",
      "[CV 3/3] END n_neighbors=7, weights=distance; accuracy: (test=0.955) f1: (test=0.955) precision: (test=0.956) recall: (test=0.954) total time=   2.9s\n",
      "[CV 1/3] END n_neighbors=13, weights=uniform; accuracy: (test=0.945) f1: (test=0.945) precision: (test=0.947) recall: (test=0.944) total time=   3.2s\n",
      "[CV 2/3] END n_neighbors=13, weights=uniform; accuracy: (test=0.941) f1: (test=0.941) precision: (test=0.943) recall: (test=0.940) total time=   3.3s\n",
      "[CV 3/3] END n_neighbors=13, weights=uniform; accuracy: (test=0.946) f1: (test=0.946) precision: (test=0.948) recall: (test=0.945) total time=   3.3s\n"
     ]
    }
   ],
   "source": [
    "from sklearn.model_selection import RandomizedSearchCV\n",
    "from sklearn.neighbors import KNeighborsClassifier\n",
    "from scipy.stats import randint\n",
    "import joblib\n",
    "import json\n",
    "import time\n",
    "\n",
    "param_dist = {\n",
    "    'weights': [\"uniform\", \"distance\"],\n",
    "    'n_neighbors': randint(2, 16)\n",
    "}\n",
    "\n",
    "scoring = {\n",
    "    'accuracy': 'accuracy',\n",
    "    'precision': 'precision_macro',\n",
    "    'recall': 'recall_macro',\n",
    "    'f1': 'f1_macro'\n",
    "}\n",
    "\n",
    "knn_clf = KNeighborsClassifier()\n",
    "knn_random_search = RandomizedSearchCV(knn_clf, param_distributions=param_dist, n_iter=15, cv=3, verbose=3, scoring=scoring, refit='accuracy', random_state=42)\n",
    "\n",
    "knn_random_start_time = time.time()\n",
    "knn_random_search.fit(X_train_subset, y_train_subset)\n",
    "knn_random_end_time = time.time()\n",
    "\n",
    "joblib.dump(knn_random_search, 'knn_random_search.pkl')\n",
    "\n",
    "knn_time_data = {\n",
    "    'knn_random_start_time': knn_random_start_time,\n",
    "    'knn_random_end_time': knn_random_end_time\n",
    "}\n",
    "\n",
    "with open('knn_times.json', 'w') as f:\n",
    "    json.dump(knn_time_data, f)"
   ]
  },
  {
   "cell_type": "markdown",
   "id": "6pfG_h8uZyeO",
   "metadata": {
    "id": "6pfG_h8uZyeO"
   },
   "source": [
    "# **SGD Randomized Search**"
   ]
  },
  {
   "cell_type": "code",
   "execution_count": 6,
   "id": "lFp6b5WT1x1v",
   "metadata": {
    "colab": {
     "base_uri": "https://localhost:8080/"
    },
    "id": "lFp6b5WT1x1v",
    "outputId": "c418965b-51e6-4c9a-bb0d-cd948e15c7fb"
   },
   "outputs": [
    {
     "name": "stdout",
     "output_type": "stream",
     "text": [
      "Fitting 3 folds for each of 15 candidates, totalling 45 fits\n",
      "[CV 1/3] END alpha=0.0001, eta0=0.1, loss=log_loss; accuracy: (train=0.922, test=0.871) f1: (train=0.922, test=0.872) precision: (train=0.926, test=0.877) recall: (train=0.922, test=0.871) total time=  18.0s\n",
      "[CV 2/3] END alpha=0.0001, eta0=0.1, loss=log_loss; accuracy: (train=0.918, test=0.868) f1: (train=0.917, test=0.866) precision: (train=0.921, test=0.871) recall: (train=0.916, test=0.865) total time=  18.3s\n",
      "[CV 3/3] END alpha=0.0001, eta0=0.1, loss=log_loss; accuracy: (train=0.904, test=0.862) f1: (train=0.902, test=0.859) precision: (train=0.909, test=0.868) recall: (train=0.903, test=0.860) total time=  21.7s\n",
      "[CV 1/3] END alpha=1, eta0=0.1, loss=hinge; accuracy: (train=0.934, test=0.881) f1: (train=0.933, test=0.879) precision: (train=0.934, test=0.881) recall: (train=0.933, test=0.880) total time=  16.4s\n",
      "[CV 2/3] END alpha=1, eta0=0.1, loss=hinge; accuracy: (train=0.934, test=0.890) f1: (train=0.933, test=0.888) precision: (train=0.934, test=0.890) recall: (train=0.933, test=0.888) total time=  16.4s\n",
      "[CV 3/3] END alpha=1, eta0=0.1, loss=hinge; accuracy: (train=0.914, test=0.872) f1: (train=0.914, test=0.872) precision: (train=0.920, test=0.880) recall: (train=0.914, test=0.871) total time=  14.1s\n",
      "[CV 1/3] END alpha=0.0001, eta0=5, loss=log_loss; accuracy: (train=0.922, test=0.871) f1: (train=0.922, test=0.872) precision: (train=0.926, test=0.877) recall: (train=0.922, test=0.871) total time=  18.0s\n",
      "[CV 2/3] END alpha=0.0001, eta0=5, loss=log_loss; accuracy: (train=0.918, test=0.868) f1: (train=0.917, test=0.866) precision: (train=0.921, test=0.871) recall: (train=0.916, test=0.865) total time=  18.2s\n",
      "[CV 3/3] END alpha=0.0001, eta0=5, loss=log_loss; accuracy: (train=0.904, test=0.862) f1: (train=0.902, test=0.859) precision: (train=0.909, test=0.868) recall: (train=0.903, test=0.860) total time=  21.6s\n",
      "[CV 1/3] END alpha=0.0001, eta0=0.01, loss=hinge; accuracy: (train=0.930, test=0.879) f1: (train=0.929, test=0.877) precision: (train=0.929, test=0.878) recall: (train=0.929, test=0.877) total time=  21.8s\n",
      "[CV 2/3] END alpha=0.0001, eta0=0.01, loss=hinge; accuracy: (train=0.930, test=0.874) f1: (train=0.929, test=0.873) precision: (train=0.930, test=0.875) recall: (train=0.929, test=0.872) total time=  18.5s\n",
      "[CV 3/3] END alpha=0.0001, eta0=0.01, loss=hinge; accuracy: (train=0.894, test=0.846) f1: (train=0.892, test=0.843) precision: (train=0.908, test=0.863) recall: (train=0.891, test=0.843) total time=  20.3s\n",
      "[CV 1/3] END alpha=0.01, eta0=0.1, loss=modified_huber; accuracy: (train=0.912, test=0.862) f1: (train=0.911, test=0.860) precision: (train=0.916, test=0.867) recall: (train=0.912, test=0.861) total time=  19.2s\n",
      "[CV 2/3] END alpha=0.01, eta0=0.1, loss=modified_huber; accuracy: (train=0.923, test=0.867) f1: (train=0.921, test=0.864) precision: (train=0.924, test=0.867) recall: (train=0.922, test=0.865) total time=  19.1s\n",
      "[CV 3/3] END alpha=0.01, eta0=0.1, loss=modified_huber; accuracy: (train=0.919, test=0.871) f1: (train=0.917, test=0.868) precision: (train=0.923, test=0.875) recall: (train=0.916, test=0.867) total time=  20.7s\n",
      "[CV 1/3] END alpha=1, eta0=0.01, loss=log_loss; accuracy: (train=0.938, test=0.892) f1: (train=0.937, test=0.890) precision: (train=0.938, test=0.891) recall: (train=0.937, test=0.890) total time=  25.4s\n",
      "[CV 2/3] END alpha=1, eta0=0.01, loss=log_loss; accuracy: (train=0.928, test=0.878) f1: (train=0.927, test=0.878) precision: (train=0.930, test=0.882) recall: (train=0.927, test=0.877) total time=  23.3s\n",
      "[CV 3/3] END alpha=1, eta0=0.01, loss=log_loss; accuracy: (train=0.930, test=0.886) f1: (train=0.929, test=0.884) precision: (train=0.930, test=0.887) recall: (train=0.929, test=0.884) total time=  27.0s\n",
      "[CV 1/3] END alpha=0.001, eta0=10, loss=log_loss; accuracy: (train=0.930, test=0.874) f1: (train=0.928, test=0.872) precision: (train=0.931, test=0.877) recall: (train=0.928, test=0.872) total time=  20.0s\n",
      "[CV 2/3] END alpha=0.001, eta0=10, loss=log_loss; accuracy: (train=0.916, test=0.865) f1: (train=0.914, test=0.862) precision: (train=0.919, test=0.869) recall: (train=0.914, test=0.862) total time=  19.5s\n",
      "[CV 3/3] END alpha=0.001, eta0=10, loss=log_loss; accuracy: (train=0.923, test=0.875) f1: (train=0.921, test=0.872) precision: (train=0.924, test=0.877) recall: (train=0.921, test=0.873) total time=  22.5s\n",
      "[CV 1/3] END alpha=0.0001, eta0=10, loss=hinge; accuracy: (train=0.930, test=0.879) f1: (train=0.929, test=0.877) precision: (train=0.929, test=0.878) recall: (train=0.929, test=0.877) total time=  21.9s\n",
      "[CV 2/3] END alpha=0.0001, eta0=10, loss=hinge; accuracy: (train=0.930, test=0.874) f1: (train=0.929, test=0.873) precision: (train=0.930, test=0.875) recall: (train=0.929, test=0.872) total time=  18.6s\n",
      "[CV 3/3] END alpha=0.0001, eta0=10, loss=hinge; accuracy: (train=0.894, test=0.846) f1: (train=0.892, test=0.843) precision: (train=0.908, test=0.863) recall: (train=0.891, test=0.843) total time=  20.3s\n",
      "[CV 1/3] END alpha=1, eta0=5, loss=hinge; accuracy: (train=0.934, test=0.881) f1: (train=0.933, test=0.879) precision: (train=0.934, test=0.881) recall: (train=0.933, test=0.880) total time=  16.4s\n",
      "[CV 2/3] END alpha=1, eta0=5, loss=hinge; accuracy: (train=0.934, test=0.890) f1: (train=0.933, test=0.888) precision: (train=0.934, test=0.890) recall: (train=0.933, test=0.888) total time=  16.3s\n",
      "[CV 3/3] END alpha=1, eta0=5, loss=hinge; accuracy: (train=0.914, test=0.872) f1: (train=0.914, test=0.872) precision: (train=0.920, test=0.880) recall: (train=0.914, test=0.871) total time=  14.0s\n",
      "[CV 1/3] END alpha=1, eta0=0.1, loss=log_loss; accuracy: (train=0.938, test=0.892) f1: (train=0.937, test=0.890) precision: (train=0.938, test=0.891) recall: (train=0.937, test=0.890) total time=  25.3s\n",
      "[CV 2/3] END alpha=1, eta0=0.1, loss=log_loss; accuracy: (train=0.928, test=0.878) f1: (train=0.927, test=0.878) precision: (train=0.930, test=0.882) recall: (train=0.927, test=0.877) total time=  23.4s\n",
      "[CV 3/3] END alpha=1, eta0=0.1, loss=log_loss; accuracy: (train=0.930, test=0.886) f1: (train=0.929, test=0.884) precision: (train=0.930, test=0.887) recall: (train=0.929, test=0.884) total time=  27.0s\n",
      "[CV 1/3] END alpha=0.01, eta0=0.1, loss=log_loss; accuracy: (train=0.936, test=0.880) f1: (train=0.934, test=0.879) precision: (train=0.935, test=0.880) recall: (train=0.935, test=0.879) total time=  24.5s\n",
      "[CV 2/3] END alpha=0.01, eta0=0.1, loss=log_loss; accuracy: (train=0.925, test=0.873) f1: (train=0.924, test=0.872) precision: (train=0.926, test=0.876) recall: (train=0.923, test=0.871) total time=  24.2s\n",
      "[CV 3/3] END alpha=0.01, eta0=0.1, loss=log_loss; accuracy: (train=0.893, test=0.857) f1: (train=0.892, test=0.857) precision: (train=0.901, test=0.867) recall: (train=0.892, test=0.857) total time=  26.2s\n",
      "[CV 1/3] END alpha=0.01, eta0=10, loss=hinge; accuracy: (train=0.927, test=0.872) f1: (train=0.926, test=0.871) precision: (train=0.928, test=0.874) recall: (train=0.925, test=0.870) total time=  18.3s\n",
      "[CV 2/3] END alpha=0.01, eta0=10, loss=hinge; accuracy: (train=0.904, test=0.855) f1: (train=0.904, test=0.854) precision: (train=0.913, test=0.864) recall: (train=0.904, test=0.854) total time=  21.3s\n",
      "[CV 3/3] END alpha=0.01, eta0=10, loss=hinge; accuracy: (train=0.921, test=0.879) f1: (train=0.919, test=0.876) precision: (train=0.923, test=0.881) recall: (train=0.919, test=0.876) total time=  20.5s\n",
      "[CV 1/3] END alpha=0.1, eta0=0.1, loss=log_loss; accuracy: (train=0.914, test=0.861) f1: (train=0.912, test=0.857) precision: (train=0.918, test=0.866) recall: (train=0.913, test=0.859) total time=  36.5s\n",
      "[CV 2/3] END alpha=0.1, eta0=0.1, loss=log_loss; accuracy: (train=0.916, test=0.865) f1: (train=0.915, test=0.863) precision: (train=0.921, test=0.872) recall: (train=0.914, test=0.863) total time=  35.0s\n",
      "[CV 3/3] END alpha=0.1, eta0=0.1, loss=log_loss; accuracy: (train=0.930, test=0.877) f1: (train=0.928, test=0.875) precision: (train=0.930, test=0.876) recall: (train=0.929, test=0.875) total time=  33.0s\n",
      "[CV 1/3] END alpha=0.001, eta0=0.1, loss=hinge; accuracy: (train=0.913, test=0.861) f1: (train=0.914, test=0.862) precision: (train=0.924, test=0.874) recall: (train=0.912, test=0.859) total time=  20.5s\n",
      "[CV 2/3] END alpha=0.001, eta0=0.1, loss=hinge; accuracy: (train=0.913, test=0.865) f1: (train=0.912, test=0.863) precision: (train=0.921, test=0.874) recall: (train=0.911, test=0.861) total time=  20.6s\n",
      "[CV 3/3] END alpha=0.001, eta0=0.1, loss=hinge; accuracy: (train=0.902, test=0.854) f1: (train=0.901, test=0.852) precision: (train=0.913, test=0.865) recall: (train=0.899, test=0.851) total time=  19.2s\n",
      "[CV 1/3] END alpha=0.0001, eta0=5, loss=hinge; accuracy: (train=0.930, test=0.879) f1: (train=0.929, test=0.877) precision: (train=0.929, test=0.878) recall: (train=0.929, test=0.877) total time=  21.9s\n",
      "[CV 2/3] END alpha=0.0001, eta0=5, loss=hinge; accuracy: (train=0.930, test=0.874) f1: (train=0.929, test=0.873) precision: (train=0.930, test=0.875) recall: (train=0.929, test=0.872) total time=  18.6s\n",
      "[CV 3/3] END alpha=0.0001, eta0=5, loss=hinge; accuracy: (train=0.894, test=0.846) f1: (train=0.892, test=0.843) precision: (train=0.908, test=0.863) recall: (train=0.891, test=0.843) total time=  20.3s\n"
     ]
    }
   ],
   "source": [
    "from sklearn.linear_model import SGDClassifier\n",
    "from sklearn.model_selection import RandomizedSearchCV\n",
    "import json\n",
    "import joblib\n",
    "import time\n",
    "\n",
    "param_dist = {\n",
    "    'loss': ['hinge', 'log_loss', 'modified_huber'],\n",
    "    'alpha': [0.0001, 0.001, 0.01, 0.1, 1],\n",
    "    'eta0': [0.01, 0.1, 1, 5, 10]\n",
    "}\n",
    "\n",
    "scoring = {\n",
    "    'accuracy': 'accuracy',\n",
    "    'precision': 'precision_macro',\n",
    "    'recall': 'recall_macro',\n",
    "    'f1': 'f1_macro'\n",
    "}\n",
    "\n",
    "sgd_clf = SGDClassifier(max_iter=1000, tol=1e-3, random_state=42)\n",
    "\n",
    "sgd_random_search = RandomizedSearchCV(sgd_clf, param_distributions=param_dist, n_iter=15, cv=3, scoring=scoring, refit='accuracy', verbose=3, random_state=42, return_train_score=True)\n",
    "\n",
    "sgd_random_start_time = time.time()\n",
    "sgd_random_search.fit(X_train_subset, y_train_subset)\n",
    "sgd_random_end_time = time.time()\n",
    "\n",
    "joblib.dump(sgd_random_search, 'sgd_random_search.pkl')\n",
    "\n",
    "sgd_time_data = {\n",
    "    'sgd_random_start_time': sgd_random_start_time,\n",
    "    'sgd_random_end_time': sgd_random_end_time\n",
    "}\n",
    "\n",
    "with open('sgd_times.json', 'w') as f:\n",
    "    json.dump(sgd_time_data, f)"
   ]
  },
  {
   "cell_type": "markdown",
   "id": "iLNmIpTSi2Cm",
   "metadata": {
    "id": "iLNmIpTSi2Cm"
   },
   "source": [
    "# **Random Forest Randomized Search**"
   ]
  },
  {
   "cell_type": "code",
   "execution_count": 7,
   "id": "x9ml-bXpjIgY",
   "metadata": {
    "colab": {
     "base_uri": "https://localhost:8080/"
    },
    "id": "x9ml-bXpjIgY",
    "outputId": "bcfb7303-dbd6-4aac-df22-cfe35bdc4634"
   },
   "outputs": [
    {
     "name": "stdout",
     "output_type": "stream",
     "text": [
      "Fitting 3 folds for each of 15 candidates, totalling 45 fits\n",
      "[CV 1/3] END max_depth=30, min_samples_split=5, n_estimators=24; accuracy: (train=0.999, test=0.946) f1: (train=0.999, test=0.945) precision: (train=0.999, test=0.945) recall: (train=0.999, test=0.945) total time=   2.3s\n",
      "[CV 2/3] END max_depth=30, min_samples_split=5, n_estimators=24; accuracy: (train=0.999, test=0.938) f1: (train=0.999, test=0.938) precision: (train=0.999, test=0.938) recall: (train=0.999, test=0.938) total time=   2.2s\n",
      "[CV 3/3] END max_depth=30, min_samples_split=5, n_estimators=24; accuracy: (train=0.999, test=0.943) f1: (train=0.999, test=0.942) precision: (train=0.999, test=0.943) recall: (train=0.999, test=0.942) total time=   2.3s\n",
      "[CV 1/3] END max_depth=30, min_samples_split=9, n_estimators=70; accuracy: (train=0.998, test=0.953) f1: (train=0.998, test=0.953) precision: (train=0.998, test=0.953) recall: (train=0.998, test=0.953) total time=   6.1s\n",
      "[CV 2/3] END max_depth=30, min_samples_split=9, n_estimators=70; accuracy: (train=0.998, test=0.946) f1: (train=0.999, test=0.945) precision: (train=0.999, test=0.945) recall: (train=0.998, test=0.945) total time=   6.0s\n",
      "[CV 3/3] END max_depth=30, min_samples_split=9, n_estimators=70; accuracy: (train=0.998, test=0.952) f1: (train=0.998, test=0.951) precision: (train=0.998, test=0.951) recall: (train=0.998, test=0.951) total time=   6.1s\n",
      "[CV 1/3] END max_depth=None, min_samples_split=8, n_estimators=92; accuracy: (train=0.999, test=0.954) f1: (train=0.999, test=0.954) precision: (train=0.999, test=0.954) recall: (train=0.999, test=0.954) total time=   8.0s\n",
      "[CV 2/3] END max_depth=None, min_samples_split=8, n_estimators=92; accuracy: (train=0.999, test=0.948) f1: (train=0.999, test=0.948) precision: (train=0.999, test=0.948) recall: (train=0.999, test=0.948) total time=   7.9s\n",
      "[CV 3/3] END max_depth=None, min_samples_split=8, n_estimators=92; accuracy: (train=0.998, test=0.952) f1: (train=0.998, test=0.951) precision: (train=0.998, test=0.951) recall: (train=0.998, test=0.951) total time=   7.9s\n",
      "[CV 1/3] END max_depth=30, min_samples_split=9, n_estimators=33; accuracy: (train=0.998, test=0.947) f1: (train=0.998, test=0.947) precision: (train=0.998, test=0.947) recall: (train=0.998, test=0.947) total time=   3.0s\n",
      "[CV 2/3] END max_depth=30, min_samples_split=9, n_estimators=33; accuracy: (train=0.997, test=0.937) f1: (train=0.997, test=0.937) precision: (train=0.997, test=0.937) recall: (train=0.997, test=0.937) total time=   3.0s\n",
      "[CV 3/3] END max_depth=30, min_samples_split=9, n_estimators=33; accuracy: (train=0.997, test=0.946) f1: (train=0.997, test=0.946) precision: (train=0.997, test=0.946) recall: (train=0.997, test=0.946) total time=   3.0s\n",
      "[CV 1/3] END max_depth=30, min_samples_split=7, n_estimators=62; accuracy: (train=0.999, test=0.954) f1: (train=0.999, test=0.954) precision: (train=0.999, test=0.954) recall: (train=0.999, test=0.954) total time=   5.5s\n",
      "[CV 2/3] END max_depth=30, min_samples_split=7, n_estimators=62; accuracy: (train=0.999, test=0.945) f1: (train=0.999, test=0.945) precision: (train=0.999, test=0.945) recall: (train=0.999, test=0.945) total time=   5.4s\n",
      "[CV 3/3] END max_depth=30, min_samples_split=7, n_estimators=62; accuracy: (train=0.999, test=0.951) f1: (train=0.999, test=0.951) precision: (train=0.999, test=0.951) recall: (train=0.999, test=0.951) total time=   5.5s\n",
      "[CV 1/3] END max_depth=10, min_samples_split=9, n_estimators=39; accuracy: (train=0.977, test=0.935) f1: (train=0.977, test=0.935) precision: (train=0.977, test=0.936) recall: (train=0.977, test=0.935) total time=   2.8s\n",
      "[CV 2/3] END max_depth=10, min_samples_split=9, n_estimators=39; accuracy: (train=0.977, test=0.928) f1: (train=0.977, test=0.927) precision: (train=0.977, test=0.928) recall: (train=0.977, test=0.927) total time=   2.8s\n",
      "[CV 3/3] END max_depth=10, min_samples_split=9, n_estimators=39; accuracy: (train=0.977, test=0.937) f1: (train=0.977, test=0.937) precision: (train=0.978, test=0.937) recall: (train=0.977, test=0.937) total time=   2.9s\n",
      "[CV 1/3] END max_depth=10, min_samples_split=3, n_estimators=73; accuracy: (train=0.983, test=0.941) f1: (train=0.984, test=0.941) precision: (train=0.984, test=0.941) recall: (train=0.983, test=0.941) total time=   5.1s\n",
      "[CV 2/3] END max_depth=10, min_samples_split=3, n_estimators=73; accuracy: (train=0.984, test=0.931) f1: (train=0.984, test=0.931) precision: (train=0.984, test=0.931) recall: (train=0.984, test=0.930) total time=   5.2s\n",
      "[CV 3/3] END max_depth=10, min_samples_split=3, n_estimators=73; accuracy: (train=0.984, test=0.941) f1: (train=0.984, test=0.941) precision: (train=0.984, test=0.941) recall: (train=0.983, test=0.941) total time=   5.2s\n",
      "[CV 1/3] END max_depth=None, min_samples_split=2, n_estimators=85; accuracy: (train=1.000, test=0.957) f1: (train=1.000, test=0.956) precision: (train=1.000, test=0.957) recall: (train=1.000, test=0.956) total time=   7.9s\n",
      "[CV 2/3] END max_depth=None, min_samples_split=2, n_estimators=85; accuracy: (train=1.000, test=0.949) f1: (train=1.000, test=0.948) precision: (train=1.000, test=0.949) recall: (train=1.000, test=0.948) total time=   7.6s\n",
      "[CV 3/3] END max_depth=None, min_samples_split=2, n_estimators=85; accuracy: (train=1.000, test=0.953) f1: (train=1.000, test=0.953) precision: (train=1.000, test=0.953) recall: (train=1.000, test=0.953) total time=   7.7s\n",
      "[CV 1/3] END max_depth=10, min_samples_split=7, n_estimators=98; accuracy: (train=0.982, test=0.942) f1: (train=0.982, test=0.941) precision: (train=0.982, test=0.942) recall: (train=0.982, test=0.941) total time=   6.8s\n",
      "[CV 2/3] END max_depth=10, min_samples_split=7, n_estimators=98; accuracy: (train=0.980, test=0.933) f1: (train=0.981, test=0.932) precision: (train=0.981, test=0.933) recall: (train=0.980, test=0.932) total time=   6.8s\n",
      "[CV 3/3] END max_depth=10, min_samples_split=7, n_estimators=98; accuracy: (train=0.980, test=0.942) f1: (train=0.980, test=0.942) precision: (train=0.981, test=0.942) recall: (train=0.980, test=0.941) total time=   6.8s\n",
      "[CV 1/3] END max_depth=None, min_samples_split=4, n_estimators=64; accuracy: (train=1.000, test=0.954) f1: (train=1.000, test=0.954) precision: (train=1.000, test=0.954) recall: (train=1.000, test=0.954) total time=   5.7s\n",
      "[CV 2/3] END max_depth=None, min_samples_split=4, n_estimators=64; accuracy: (train=1.000, test=0.945) f1: (train=1.000, test=0.944) precision: (train=1.000, test=0.944) recall: (train=1.000, test=0.944) total time=   5.7s\n",
      "[CV 3/3] END max_depth=None, min_samples_split=4, n_estimators=64; accuracy: (train=1.000, test=0.952) f1: (train=1.000, test=0.952) precision: (train=1.000, test=0.952) recall: (train=1.000, test=0.952) total time=   5.9s\n",
      "[CV 1/3] END max_depth=None, min_samples_split=4, n_estimators=60; accuracy: (train=1.000, test=0.954) f1: (train=1.000, test=0.953) precision: (train=1.000, test=0.953) recall: (train=1.000, test=0.953) total time=   5.3s\n",
      "[CV 2/3] END max_depth=None, min_samples_split=4, n_estimators=60; accuracy: (train=1.000, test=0.944) f1: (train=1.000, test=0.943) precision: (train=1.000, test=0.944) recall: (train=1.000, test=0.943) total time=   5.4s\n",
      "[CV 3/3] END max_depth=None, min_samples_split=4, n_estimators=60; accuracy: (train=1.000, test=0.951) f1: (train=1.000, test=0.951) precision: (train=1.000, test=0.951) recall: (train=1.000, test=0.951) total time=   5.4s\n",
      "[CV 1/3] END max_depth=30, min_samples_split=6, n_estimators=82; accuracy: (train=1.000, test=0.955) f1: (train=1.000, test=0.955) precision: (train=1.000, test=0.955) recall: (train=1.000, test=0.955) total time=   7.2s\n",
      "[CV 2/3] END max_depth=30, min_samples_split=6, n_estimators=82; accuracy: (train=0.999, test=0.946) f1: (train=0.999, test=0.945) precision: (train=0.999, test=0.945) recall: (train=0.999, test=0.945) total time=   7.1s\n",
      "[CV 3/3] END max_depth=30, min_samples_split=6, n_estimators=82; accuracy: (train=0.999, test=0.954) f1: (train=0.999, test=0.953) precision: (train=0.999, test=0.953) recall: (train=0.999, test=0.953) total time=   7.2s\n",
      "[CV 1/3] END max_depth=30, min_samples_split=3, n_estimators=13; accuracy: (train=0.999, test=0.927) f1: (train=0.999, test=0.926) precision: (train=0.999, test=0.926) recall: (train=0.999, test=0.926) total time=   1.3s\n",
      "[CV 2/3] END max_depth=30, min_samples_split=3, n_estimators=13; accuracy: (train=0.999, test=0.926) f1: (train=0.999, test=0.924) precision: (train=0.999, test=0.925) recall: (train=0.999, test=0.924) total time=   1.3s\n",
      "[CV 3/3] END max_depth=30, min_samples_split=3, n_estimators=13; accuracy: (train=0.999, test=0.931) f1: (train=0.999, test=0.930) precision: (train=0.999, test=0.930) recall: (train=0.999, test=0.930) total time=   1.3s\n",
      "[CV 1/3] END max_depth=None, min_samples_split=3, n_estimators=18; accuracy: (train=1.000, test=0.936) f1: (train=1.000, test=0.935) precision: (train=1.000, test=0.935) recall: (train=1.000, test=0.935) total time=   1.8s\n",
      "[CV 2/3] END max_depth=None, min_samples_split=3, n_estimators=18; accuracy: (train=1.000, test=0.933) f1: (train=1.000, test=0.932) precision: (train=1.000, test=0.933) recall: (train=1.000, test=0.932) total time=   1.8s\n",
      "[CV 3/3] END max_depth=None, min_samples_split=3, n_estimators=18; accuracy: (train=1.000, test=0.938) f1: (train=1.000, test=0.938) precision: (train=1.000, test=0.938) recall: (train=1.000, test=0.938) total time=   1.8s\n",
      "[CV 1/3] END max_depth=10, min_samples_split=6, n_estimators=11; accuracy: (train=0.968, test=0.918) f1: (train=0.968, test=0.917) precision: (train=0.968, test=0.917) recall: (train=0.968, test=0.916) total time=   1.0s\n",
      "[CV 2/3] END max_depth=10, min_samples_split=6, n_estimators=11; accuracy: (train=0.971, test=0.909) f1: (train=0.971, test=0.908) precision: (train=0.971, test=0.909) recall: (train=0.971, test=0.908) total time=   1.0s\n",
      "[CV 3/3] END max_depth=10, min_samples_split=6, n_estimators=11; accuracy: (train=0.969, test=0.920) f1: (train=0.969, test=0.919) precision: (train=0.969, test=0.919) recall: (train=0.969, test=0.919) total time=   1.0s\n"
     ]
    }
   ],
   "source": [
    "from sklearn.ensemble import RandomForestClassifier\n",
    "from sklearn.model_selection import RandomizedSearchCV\n",
    "from scipy.stats import randint\n",
    "import joblib\n",
    "import json\n",
    "import time\n",
    "\n",
    "param_dist = {\n",
    "    'n_estimators': randint(10, 100),\n",
    "    'max_depth': [None, 10, 30],\n",
    "    'min_samples_split': randint(2, 11)\n",
    "}\n",
    "\n",
    "scoring = {\n",
    "    'accuracy': 'accuracy',\n",
    "    'precision': 'precision_macro',\n",
    "    'recall': 'recall_macro',\n",
    "    'f1': 'f1_macro'\n",
    "}\n",
    "\n",
    "forest_clf = RandomForestClassifier(random_state=42)\n",
    "\n",
    "forest_clf_random_search = RandomizedSearchCV(forest_clf, param_distributions=param_dist, n_iter=15, cv=3, scoring=scoring, refit='accuracy', verbose=3, random_state=42, return_train_score=True)\n",
    "\n",
    "forest_clf_random_start_time = time.time()\n",
    "forest_clf_random_search.fit(X_train_subset, y_train_subset)\n",
    "forest_clf_random_end_time = time.time()\n",
    "\n",
    "joblib.dump(forest_clf_random_search, 'forest_clf_random_search.pkl')\n",
    "\n",
    "forest_time_data = {\n",
    "    'forest_clf_random_start_time': forest_clf_random_start_time,\n",
    "    'forest_clf_random_end_time': forest_clf_random_end_time\n",
    "}\n",
    "\n",
    "with open('forest_times.json', 'w') as f:\n",
    "    json.dump(forest_time_data, f)"
   ]
  },
  {
   "cell_type": "markdown",
   "id": "hQgZ7yzhndX5",
   "metadata": {
    "id": "hQgZ7yzhndX5"
   },
   "source": [
    "# **SVM RBF Kernel Randomized Search**"
   ]
  },
  {
   "cell_type": "code",
   "execution_count": 4,
   "id": "c4qN2_y5nuN9",
   "metadata": {
    "colab": {
     "base_uri": "https://localhost:8080/"
    },
    "id": "c4qN2_y5nuN9",
    "outputId": "2c1bf08f-a798-4957-ef55-86401a8e6b64"
   },
   "outputs": [
    {
     "name": "stdout",
     "output_type": "stream",
     "text": [
      "Fitting 3 folds for each of 15 candidates, totalling 45 fits\n",
      "[CV 1/3] END C=1, gamma=scale; accuracy: (train=0.986, test=0.965) f1: (train=0.986, test=0.965) precision: (train=0.986, test=0.965) recall: (train=0.986, test=0.965) total time=  48.5s\n",
      "[CV 2/3] END C=1, gamma=scale; accuracy: (train=0.986, test=0.962) f1: (train=0.986, test=0.962) precision: (train=0.986, test=0.962) recall: (train=0.986, test=0.962) total time=  47.9s\n",
      "[CV 3/3] END C=1, gamma=scale; accuracy: (train=0.985, test=0.965) f1: (train=0.985, test=0.965) precision: (train=0.985, test=0.965) recall: (train=0.985, test=0.965) total time=  48.7s\n",
      "[CV 1/3] END C=100, gamma=scale; accuracy: (train=1.000, test=0.971) f1: (train=1.000, test=0.971) precision: (train=1.000, test=0.971) recall: (train=1.000, test=0.970) total time=  45.0s\n",
      "[CV 2/3] END C=100, gamma=scale; accuracy: (train=1.000, test=0.970) f1: (train=1.000, test=0.969) precision: (train=1.000, test=0.969) recall: (train=1.000, test=0.969) total time=  45.0s\n",
      "[CV 3/3] END C=100, gamma=scale; accuracy: (train=1.000, test=0.974) f1: (train=1.000, test=0.974) precision: (train=1.000, test=0.974) recall: (train=1.000, test=0.974) total time=  42.7s\n"
     ]
    },
    {
     "name": "stderr",
     "output_type": "stream",
     "text": [
      "/usr/local/lib/python3.10/dist-packages/sklearn/metrics/_classification.py:1531: UndefinedMetricWarning: Precision is ill-defined and being set to 0.0 in labels with no predicted samples. Use `zero_division` parameter to control this behavior.\n",
      "  _warn_prf(average, modifier, f\"{metric.capitalize()} is\", len(result))\n"
     ]
    },
    {
     "name": "stdout",
     "output_type": "stream",
     "text": [
      "[CV 1/3] END C=30, gamma=auto; accuracy: (train=1.000, test=0.112) f1: (train=1.000, test=0.020) precision: (train=1.000, test=0.011) recall: (train=1.000, test=0.100) total time= 3.8min\n"
     ]
    },
    {
     "name": "stderr",
     "output_type": "stream",
     "text": [
      "/usr/local/lib/python3.10/dist-packages/sklearn/metrics/_classification.py:1531: UndefinedMetricWarning: Precision is ill-defined and being set to 0.0 in labels with no predicted samples. Use `zero_division` parameter to control this behavior.\n",
      "  _warn_prf(average, modifier, f\"{metric.capitalize()} is\", len(result))\n"
     ]
    },
    {
     "name": "stdout",
     "output_type": "stream",
     "text": [
      "[CV 2/3] END C=30, gamma=auto; accuracy: (train=1.000, test=0.112) f1: (train=1.000, test=0.020) precision: (train=1.000, test=0.011) recall: (train=1.000, test=0.100) total time= 3.8min\n"
     ]
    },
    {
     "name": "stderr",
     "output_type": "stream",
     "text": [
      "/usr/local/lib/python3.10/dist-packages/sklearn/metrics/_classification.py:1531: UndefinedMetricWarning: Precision is ill-defined and being set to 0.0 in labels with no predicted samples. Use `zero_division` parameter to control this behavior.\n",
      "  _warn_prf(average, modifier, f\"{metric.capitalize()} is\", len(result))\n"
     ]
    },
    {
     "name": "stdout",
     "output_type": "stream",
     "text": [
      "[CV 3/3] END C=30, gamma=auto; accuracy: (train=1.000, test=0.113) f1: (train=1.000, test=0.020) precision: (train=1.000, test=0.011) recall: (train=1.000, test=0.100) total time= 4.1min\n",
      "[CV 1/3] END C=200, gamma=scale; accuracy: (train=1.000, test=0.971) f1: (train=1.000, test=0.971) precision: (train=1.000, test=0.971) recall: (train=1.000, test=0.970) total time=  44.4s\n",
      "[CV 2/3] END C=200, gamma=scale; accuracy: (train=1.000, test=0.970) f1: (train=1.000, test=0.969) precision: (train=1.000, test=0.969) recall: (train=1.000, test=0.969) total time=  43.9s\n",
      "[CV 3/3] END C=200, gamma=scale; accuracy: (train=1.000, test=0.974) f1: (train=1.000, test=0.974) precision: (train=1.000, test=0.974) recall: (train=1.000, test=0.974) total time=  43.5s\n"
     ]
    },
    {
     "name": "stderr",
     "output_type": "stream",
     "text": [
      "/usr/local/lib/python3.10/dist-packages/sklearn/metrics/_classification.py:1531: UndefinedMetricWarning: Precision is ill-defined and being set to 0.0 in labels with no predicted samples. Use `zero_division` parameter to control this behavior.\n",
      "  _warn_prf(average, modifier, f\"{metric.capitalize()} is\", len(result))\n",
      "/usr/local/lib/python3.10/dist-packages/sklearn/metrics/_classification.py:1531: UndefinedMetricWarning: Precision is ill-defined and being set to 0.0 in labels with no predicted samples. Use `zero_division` parameter to control this behavior.\n",
      "  _warn_prf(average, modifier, f\"{metric.capitalize()} is\", len(result))\n"
     ]
    },
    {
     "name": "stdout",
     "output_type": "stream",
     "text": [
      "[CV 1/3] END C=0.1, gamma=auto; accuracy: (train=0.113, test=0.112) f1: (train=0.020, test=0.020) precision: (train=0.011, test=0.011) recall: (train=0.100, test=0.100) total time= 3.9min\n"
     ]
    },
    {
     "name": "stderr",
     "output_type": "stream",
     "text": [
      "/usr/local/lib/python3.10/dist-packages/sklearn/metrics/_classification.py:1531: UndefinedMetricWarning: Precision is ill-defined and being set to 0.0 in labels with no predicted samples. Use `zero_division` parameter to control this behavior.\n",
      "  _warn_prf(average, modifier, f\"{metric.capitalize()} is\", len(result))\n",
      "/usr/local/lib/python3.10/dist-packages/sklearn/metrics/_classification.py:1531: UndefinedMetricWarning: Precision is ill-defined and being set to 0.0 in labels with no predicted samples. Use `zero_division` parameter to control this behavior.\n",
      "  _warn_prf(average, modifier, f\"{metric.capitalize()} is\", len(result))\n"
     ]
    },
    {
     "name": "stdout",
     "output_type": "stream",
     "text": [
      "[CV 2/3] END C=0.1, gamma=auto; accuracy: (train=0.113, test=0.112) f1: (train=0.020, test=0.020) precision: (train=0.011, test=0.011) recall: (train=0.100, test=0.100) total time= 3.8min\n"
     ]
    },
    {
     "name": "stderr",
     "output_type": "stream",
     "text": [
      "/usr/local/lib/python3.10/dist-packages/sklearn/metrics/_classification.py:1531: UndefinedMetricWarning: Precision is ill-defined and being set to 0.0 in labels with no predicted samples. Use `zero_division` parameter to control this behavior.\n",
      "  _warn_prf(average, modifier, f\"{metric.capitalize()} is\", len(result))\n",
      "/usr/local/lib/python3.10/dist-packages/sklearn/metrics/_classification.py:1531: UndefinedMetricWarning: Precision is ill-defined and being set to 0.0 in labels with no predicted samples. Use `zero_division` parameter to control this behavior.\n",
      "  _warn_prf(average, modifier, f\"{metric.capitalize()} is\", len(result))\n"
     ]
    },
    {
     "name": "stdout",
     "output_type": "stream",
     "text": [
      "[CV 3/3] END C=0.1, gamma=auto; accuracy: (train=0.112, test=0.113) f1: (train=0.020, test=0.020) precision: (train=0.011, test=0.011) recall: (train=0.100, test=0.100) total time= 4.0min\n"
     ]
    },
    {
     "name": "stderr",
     "output_type": "stream",
     "text": [
      "/usr/local/lib/python3.10/dist-packages/sklearn/metrics/_classification.py:1531: UndefinedMetricWarning: Precision is ill-defined and being set to 0.0 in labels with no predicted samples. Use `zero_division` parameter to control this behavior.\n",
      "  _warn_prf(average, modifier, f\"{metric.capitalize()} is\", len(result))\n",
      "/usr/local/lib/python3.10/dist-packages/sklearn/metrics/_classification.py:1531: UndefinedMetricWarning: Precision is ill-defined and being set to 0.0 in labels with no predicted samples. Use `zero_division` parameter to control this behavior.\n",
      "  _warn_prf(average, modifier, f\"{metric.capitalize()} is\", len(result))\n"
     ]
    },
    {
     "name": "stdout",
     "output_type": "stream",
     "text": [
      "[CV 1/3] END C=0.001, gamma=scale; accuracy: (train=0.113, test=0.112) f1: (train=0.020, test=0.020) precision: (train=0.011, test=0.011) recall: (train=0.100, test=0.100) total time= 3.8min\n"
     ]
    },
    {
     "name": "stderr",
     "output_type": "stream",
     "text": [
      "/usr/local/lib/python3.10/dist-packages/sklearn/metrics/_classification.py:1531: UndefinedMetricWarning: Precision is ill-defined and being set to 0.0 in labels with no predicted samples. Use `zero_division` parameter to control this behavior.\n",
      "  _warn_prf(average, modifier, f\"{metric.capitalize()} is\", len(result))\n",
      "/usr/local/lib/python3.10/dist-packages/sklearn/metrics/_classification.py:1531: UndefinedMetricWarning: Precision is ill-defined and being set to 0.0 in labels with no predicted samples. Use `zero_division` parameter to control this behavior.\n",
      "  _warn_prf(average, modifier, f\"{metric.capitalize()} is\", len(result))\n"
     ]
    },
    {
     "name": "stdout",
     "output_type": "stream",
     "text": [
      "[CV 2/3] END C=0.001, gamma=scale; accuracy: (train=0.113, test=0.112) f1: (train=0.020, test=0.020) precision: (train=0.011, test=0.011) recall: (train=0.100, test=0.100) total time= 3.8min\n"
     ]
    },
    {
     "name": "stderr",
     "output_type": "stream",
     "text": [
      "/usr/local/lib/python3.10/dist-packages/sklearn/metrics/_classification.py:1531: UndefinedMetricWarning: Precision is ill-defined and being set to 0.0 in labels with no predicted samples. Use `zero_division` parameter to control this behavior.\n",
      "  _warn_prf(average, modifier, f\"{metric.capitalize()} is\", len(result))\n",
      "/usr/local/lib/python3.10/dist-packages/sklearn/metrics/_classification.py:1531: UndefinedMetricWarning: Precision is ill-defined and being set to 0.0 in labels with no predicted samples. Use `zero_division` parameter to control this behavior.\n",
      "  _warn_prf(average, modifier, f\"{metric.capitalize()} is\", len(result))\n"
     ]
    },
    {
     "name": "stdout",
     "output_type": "stream",
     "text": [
      "[CV 3/3] END C=0.001, gamma=scale; accuracy: (train=0.112, test=0.113) f1: (train=0.020, test=0.020) precision: (train=0.011, test=0.011) recall: (train=0.100, test=0.100) total time= 3.7min\n"
     ]
    },
    {
     "name": "stderr",
     "output_type": "stream",
     "text": [
      "/usr/local/lib/python3.10/dist-packages/sklearn/metrics/_classification.py:1531: UndefinedMetricWarning: Precision is ill-defined and being set to 0.0 in labels with no predicted samples. Use `zero_division` parameter to control this behavior.\n",
      "  _warn_prf(average, modifier, f\"{metric.capitalize()} is\", len(result))\n"
     ]
    },
    {
     "name": "stdout",
     "output_type": "stream",
     "text": [
      "[CV 1/3] END C=10, gamma=auto; accuracy: (train=1.000, test=0.112) f1: (train=1.000, test=0.020) precision: (train=1.000, test=0.011) recall: (train=1.000, test=0.100) total time= 3.8min\n"
     ]
    },
    {
     "name": "stderr",
     "output_type": "stream",
     "text": [
      "/usr/local/lib/python3.10/dist-packages/sklearn/metrics/_classification.py:1531: UndefinedMetricWarning: Precision is ill-defined and being set to 0.0 in labels with no predicted samples. Use `zero_division` parameter to control this behavior.\n",
      "  _warn_prf(average, modifier, f\"{metric.capitalize()} is\", len(result))\n"
     ]
    },
    {
     "name": "stdout",
     "output_type": "stream",
     "text": [
      "[CV 2/3] END C=10, gamma=auto; accuracy: (train=1.000, test=0.112) f1: (train=1.000, test=0.020) precision: (train=1.000, test=0.011) recall: (train=1.000, test=0.100) total time= 4.0min\n"
     ]
    },
    {
     "name": "stderr",
     "output_type": "stream",
     "text": [
      "/usr/local/lib/python3.10/dist-packages/sklearn/metrics/_classification.py:1531: UndefinedMetricWarning: Precision is ill-defined and being set to 0.0 in labels with no predicted samples. Use `zero_division` parameter to control this behavior.\n",
      "  _warn_prf(average, modifier, f\"{metric.capitalize()} is\", len(result))\n"
     ]
    },
    {
     "name": "stdout",
     "output_type": "stream",
     "text": [
      "[CV 3/3] END C=10, gamma=auto; accuracy: (train=1.000, test=0.113) f1: (train=1.000, test=0.020) precision: (train=1.000, test=0.011) recall: (train=1.000, test=0.100) total time= 4.0min\n"
     ]
    },
    {
     "name": "stderr",
     "output_type": "stream",
     "text": [
      "/usr/local/lib/python3.10/dist-packages/sklearn/metrics/_classification.py:1531: UndefinedMetricWarning: Precision is ill-defined and being set to 0.0 in labels with no predicted samples. Use `zero_division` parameter to control this behavior.\n",
      "  _warn_prf(average, modifier, f\"{metric.capitalize()} is\", len(result))\n"
     ]
    },
    {
     "name": "stdout",
     "output_type": "stream",
     "text": [
      "[CV 1/3] END C=200, gamma=auto; accuracy: (train=1.000, test=0.112) f1: (train=1.000, test=0.020) precision: (train=1.000, test=0.011) recall: (train=1.000, test=0.100) total time= 4.0min\n"
     ]
    },
    {
     "name": "stderr",
     "output_type": "stream",
     "text": [
      "/usr/local/lib/python3.10/dist-packages/sklearn/metrics/_classification.py:1531: UndefinedMetricWarning: Precision is ill-defined and being set to 0.0 in labels with no predicted samples. Use `zero_division` parameter to control this behavior.\n",
      "  _warn_prf(average, modifier, f\"{metric.capitalize()} is\", len(result))\n"
     ]
    },
    {
     "name": "stdout",
     "output_type": "stream",
     "text": [
      "[CV 2/3] END C=200, gamma=auto; accuracy: (train=1.000, test=0.112) f1: (train=1.000, test=0.020) precision: (train=1.000, test=0.011) recall: (train=1.000, test=0.100) total time= 4.1min\n"
     ]
    },
    {
     "name": "stderr",
     "output_type": "stream",
     "text": [
      "/usr/local/lib/python3.10/dist-packages/sklearn/metrics/_classification.py:1531: UndefinedMetricWarning: Precision is ill-defined and being set to 0.0 in labels with no predicted samples. Use `zero_division` parameter to control this behavior.\n",
      "  _warn_prf(average, modifier, f\"{metric.capitalize()} is\", len(result))\n"
     ]
    },
    {
     "name": "stdout",
     "output_type": "stream",
     "text": [
      "[CV 3/3] END C=200, gamma=auto; accuracy: (train=1.000, test=0.113) f1: (train=1.000, test=0.020) precision: (train=1.000, test=0.011) recall: (train=1.000, test=0.100) total time= 4.0min\n",
      "[CV 1/3] END C=30, gamma=scale; accuracy: (train=1.000, test=0.971) f1: (train=1.000, test=0.971) precision: (train=1.000, test=0.971) recall: (train=1.000, test=0.970) total time=  45.3s\n",
      "[CV 2/3] END C=30, gamma=scale; accuracy: (train=1.000, test=0.970) f1: (train=1.000, test=0.969) precision: (train=1.000, test=0.969) recall: (train=1.000, test=0.969) total time=  46.3s\n",
      "[CV 3/3] END C=30, gamma=scale; accuracy: (train=1.000, test=0.974) f1: (train=1.000, test=0.974) precision: (train=1.000, test=0.974) recall: (train=1.000, test=0.974) total time=  45.4s\n"
     ]
    },
    {
     "name": "stderr",
     "output_type": "stream",
     "text": [
      "/usr/local/lib/python3.10/dist-packages/sklearn/metrics/_classification.py:1531: UndefinedMetricWarning: Precision is ill-defined and being set to 0.0 in labels with no predicted samples. Use `zero_division` parameter to control this behavior.\n",
      "  _warn_prf(average, modifier, f\"{metric.capitalize()} is\", len(result))\n",
      "/usr/local/lib/python3.10/dist-packages/sklearn/metrics/_classification.py:1531: UndefinedMetricWarning: Precision is ill-defined and being set to 0.0 in labels with no predicted samples. Use `zero_division` parameter to control this behavior.\n",
      "  _warn_prf(average, modifier, f\"{metric.capitalize()} is\", len(result))\n"
     ]
    },
    {
     "name": "stdout",
     "output_type": "stream",
     "text": [
      "[CV 1/3] END C=0.01, gamma=auto; accuracy: (train=0.113, test=0.112) f1: (train=0.020, test=0.020) precision: (train=0.011, test=0.011) recall: (train=0.100, test=0.100) total time= 4.1min\n"
     ]
    },
    {
     "name": "stderr",
     "output_type": "stream",
     "text": [
      "/usr/local/lib/python3.10/dist-packages/sklearn/metrics/_classification.py:1531: UndefinedMetricWarning: Precision is ill-defined and being set to 0.0 in labels with no predicted samples. Use `zero_division` parameter to control this behavior.\n",
      "  _warn_prf(average, modifier, f\"{metric.capitalize()} is\", len(result))\n",
      "/usr/local/lib/python3.10/dist-packages/sklearn/metrics/_classification.py:1531: UndefinedMetricWarning: Precision is ill-defined and being set to 0.0 in labels with no predicted samples. Use `zero_division` parameter to control this behavior.\n",
      "  _warn_prf(average, modifier, f\"{metric.capitalize()} is\", len(result))\n"
     ]
    },
    {
     "name": "stdout",
     "output_type": "stream",
     "text": [
      "[CV 2/3] END C=0.01, gamma=auto; accuracy: (train=0.113, test=0.112) f1: (train=0.020, test=0.020) precision: (train=0.011, test=0.011) recall: (train=0.100, test=0.100) total time= 4.1min\n"
     ]
    },
    {
     "name": "stderr",
     "output_type": "stream",
     "text": [
      "/usr/local/lib/python3.10/dist-packages/sklearn/metrics/_classification.py:1531: UndefinedMetricWarning: Precision is ill-defined and being set to 0.0 in labels with no predicted samples. Use `zero_division` parameter to control this behavior.\n",
      "  _warn_prf(average, modifier, f\"{metric.capitalize()} is\", len(result))\n",
      "/usr/local/lib/python3.10/dist-packages/sklearn/metrics/_classification.py:1531: UndefinedMetricWarning: Precision is ill-defined and being set to 0.0 in labels with no predicted samples. Use `zero_division` parameter to control this behavior.\n",
      "  _warn_prf(average, modifier, f\"{metric.capitalize()} is\", len(result))\n"
     ]
    },
    {
     "name": "stdout",
     "output_type": "stream",
     "text": [
      "[CV 3/3] END C=0.01, gamma=auto; accuracy: (train=0.112, test=0.113) f1: (train=0.020, test=0.020) precision: (train=0.011, test=0.011) recall: (train=0.100, test=0.100) total time= 4.0min\n"
     ]
    },
    {
     "name": "stderr",
     "output_type": "stream",
     "text": [
      "/usr/local/lib/python3.10/dist-packages/sklearn/metrics/_classification.py:1531: UndefinedMetricWarning: Precision is ill-defined and being set to 0.0 in labels with no predicted samples. Use `zero_division` parameter to control this behavior.\n",
      "  _warn_prf(average, modifier, f\"{metric.capitalize()} is\", len(result))\n"
     ]
    },
    {
     "name": "stdout",
     "output_type": "stream",
     "text": [
      "[CV 1/3] END C=1, gamma=auto; accuracy: (train=1.000, test=0.112) f1: (train=1.000, test=0.020) precision: (train=1.000, test=0.011) recall: (train=1.000, test=0.100) total time= 4.0min\n"
     ]
    },
    {
     "name": "stderr",
     "output_type": "stream",
     "text": [
      "/usr/local/lib/python3.10/dist-packages/sklearn/metrics/_classification.py:1531: UndefinedMetricWarning: Precision is ill-defined and being set to 0.0 in labels with no predicted samples. Use `zero_division` parameter to control this behavior.\n",
      "  _warn_prf(average, modifier, f\"{metric.capitalize()} is\", len(result))\n"
     ]
    },
    {
     "name": "stdout",
     "output_type": "stream",
     "text": [
      "[CV 2/3] END C=1, gamma=auto; accuracy: (train=1.000, test=0.112) f1: (train=1.000, test=0.020) precision: (train=1.000, test=0.011) recall: (train=1.000, test=0.100) total time= 4.2min\n"
     ]
    },
    {
     "name": "stderr",
     "output_type": "stream",
     "text": [
      "/usr/local/lib/python3.10/dist-packages/sklearn/metrics/_classification.py:1531: UndefinedMetricWarning: Precision is ill-defined and being set to 0.0 in labels with no predicted samples. Use `zero_division` parameter to control this behavior.\n",
      "  _warn_prf(average, modifier, f\"{metric.capitalize()} is\", len(result))\n"
     ]
    },
    {
     "name": "stdout",
     "output_type": "stream",
     "text": [
      "[CV 3/3] END C=1, gamma=auto; accuracy: (train=1.000, test=0.113) f1: (train=1.000, test=0.020) precision: (train=1.000, test=0.011) recall: (train=1.000, test=0.100) total time= 4.1min\n",
      "[CV 1/3] END C=0.01, gamma=scale; accuracy: (train=0.850, test=0.847) f1: (train=0.847, test=0.844) precision: (train=0.855, test=0.851) recall: (train=0.846, test=0.843) total time= 3.2min\n",
      "[CV 2/3] END C=0.01, gamma=scale; accuracy: (train=0.854, test=0.847) f1: (train=0.851, test=0.844) precision: (train=0.858, test=0.853) recall: (train=0.850, test=0.843) total time= 3.2min\n",
      "[CV 3/3] END C=0.01, gamma=scale; accuracy: (train=0.851, test=0.850) f1: (train=0.849, test=0.847) precision: (train=0.855, test=0.855) recall: (train=0.848, test=0.846) total time= 3.1min\n"
     ]
    },
    {
     "name": "stderr",
     "output_type": "stream",
     "text": [
      "/usr/local/lib/python3.10/dist-packages/sklearn/metrics/_classification.py:1531: UndefinedMetricWarning: Precision is ill-defined and being set to 0.0 in labels with no predicted samples. Use `zero_division` parameter to control this behavior.\n",
      "  _warn_prf(average, modifier, f\"{metric.capitalize()} is\", len(result))\n"
     ]
    },
    {
     "name": "stdout",
     "output_type": "stream",
     "text": [
      "[CV 1/3] END C=100, gamma=auto; accuracy: (train=1.000, test=0.112) f1: (train=1.000, test=0.020) precision: (train=1.000, test=0.011) recall: (train=1.000, test=0.100) total time= 4.0min\n"
     ]
    },
    {
     "name": "stderr",
     "output_type": "stream",
     "text": [
      "/usr/local/lib/python3.10/dist-packages/sklearn/metrics/_classification.py:1531: UndefinedMetricWarning: Precision is ill-defined and being set to 0.0 in labels with no predicted samples. Use `zero_division` parameter to control this behavior.\n",
      "  _warn_prf(average, modifier, f\"{metric.capitalize()} is\", len(result))\n"
     ]
    },
    {
     "name": "stdout",
     "output_type": "stream",
     "text": [
      "[CV 2/3] END C=100, gamma=auto; accuracy: (train=1.000, test=0.112) f1: (train=1.000, test=0.020) precision: (train=1.000, test=0.011) recall: (train=1.000, test=0.100) total time= 3.8min\n"
     ]
    },
    {
     "name": "stderr",
     "output_type": "stream",
     "text": [
      "/usr/local/lib/python3.10/dist-packages/sklearn/metrics/_classification.py:1531: UndefinedMetricWarning: Precision is ill-defined and being set to 0.0 in labels with no predicted samples. Use `zero_division` parameter to control this behavior.\n",
      "  _warn_prf(average, modifier, f\"{metric.capitalize()} is\", len(result))\n"
     ]
    },
    {
     "name": "stdout",
     "output_type": "stream",
     "text": [
      "[CV 3/3] END C=100, gamma=auto; accuracy: (train=1.000, test=0.113) f1: (train=1.000, test=0.020) precision: (train=1.000, test=0.011) recall: (train=1.000, test=0.100) total time= 3.9min\n",
      "[CV 1/3] END C=0.1, gamma=scale; accuracy: (train=0.943, test=0.938) f1: (train=0.943, test=0.937) precision: (train=0.943, test=0.937) recall: (train=0.943, test=0.937) total time= 1.4min\n",
      "[CV 2/3] END C=0.1, gamma=scale; accuracy: (train=0.944, test=0.932) f1: (train=0.943, test=0.931) precision: (train=0.943, test=0.932) recall: (train=0.943, test=0.931) total time= 1.4min\n",
      "[CV 3/3] END C=0.1, gamma=scale; accuracy: (train=0.941, test=0.936) f1: (train=0.940, test=0.936) precision: (train=0.940, test=0.936) recall: (train=0.940, test=0.936) total time= 1.4min\n",
      "[CV 1/3] END C=10, gamma=scale; accuracy: (train=1.000, test=0.971) f1: (train=1.000, test=0.971) precision: (train=1.000, test=0.971) recall: (train=1.000, test=0.970) total time=  43.0s\n",
      "[CV 2/3] END C=10, gamma=scale; accuracy: (train=1.000, test=0.970) f1: (train=1.000, test=0.969) precision: (train=1.000, test=0.970) recall: (train=1.000, test=0.969) total time=  45.3s\n",
      "[CV 3/3] END C=10, gamma=scale; accuracy: (train=1.000, test=0.974) f1: (train=1.000, test=0.974) precision: (train=1.000, test=0.974) recall: (train=1.000, test=0.974) total time=  45.0s\n"
     ]
    }
   ],
   "source": [
    "from sklearn.svm import SVC\n",
    "from sklearn.model_selection import RandomizedSearchCV\n",
    "import joblib\n",
    "import json\n",
    "import time\n",
    "\n",
    "param_dist = {\n",
    "    'gamma': ['auto', 'scale'],\n",
    "    'C': [0.001, 0.01, 0.1, 1, 10, 30, 100, 200]\n",
    "}\n",
    "\n",
    "scoring = {\n",
    "    'accuracy': 'accuracy',\n",
    "    'precision': 'precision_macro',\n",
    "    'recall': 'recall_macro',\n",
    "    'f1': 'f1_macro'\n",
    "}\n",
    "\n",
    "svm_rbf_clf = SVC(kernel='rbf', random_state=42)\n",
    "\n",
    "svm_rbf_random_search = RandomizedSearchCV(svm_rbf_clf, param_distributions=param_dist, cv=3, n_iter=15, scoring=scoring, refit='accuracy', verbose=3, return_train_score=True)\n",
    "\n",
    "svm_rbf_random_start_time = time.time()\n",
    "svm_rbf_random_search.fit(X_train_subset, y_train_subset)\n",
    "svm_rbf_random_end_time = time.time()\n",
    "\n",
    "joblib.dump(svm_rbf_random_search, 'svm_rbf_random_search.pkl')\n",
    "\n",
    "svm_rbf_time_data = {\n",
    "    'svm_rbf_random_start_time': svm_rbf_random_start_time,\n",
    "    'svm_rbf_random_end_time': svm_rbf_random_end_time\n",
    "}\n",
    "\n",
    "with open('svm_rbf_times.json', 'w') as f:\n",
    "    json.dump(svm_rbf_time_data, f)"
   ]
  },
  {
   "cell_type": "markdown",
   "id": "2blu89yC_70y",
   "metadata": {
    "id": "2blu89yC_70y"
   },
   "source": [
    "# **SVM Polynomial Kernel Randomized Search**"
   ]
  },
  {
   "cell_type": "code",
   "execution_count": 11,
   "id": "lseFIN_-82_e",
   "metadata": {
    "colab": {
     "base_uri": "https://localhost:8080/"
    },
    "id": "lseFIN_-82_e",
    "outputId": "35615c30-5711-4d23-ba5a-a4f4fa34681d"
   },
   "outputs": [
    {
     "name": "stdout",
     "output_type": "stream",
     "text": [
      "Fitting 3 folds for each of 15 candidates, totalling 45 fits\n",
      "[CV 1/3] END C=100, coef0=0.0, degree=4; accuracy: (train=1.000, test=0.949) f1: (train=1.000, test=0.949) precision: (train=1.000, test=0.950) recall: (train=1.000, test=0.948) total time=  23.7s\n",
      "[CV 2/3] END C=100, coef0=0.0, degree=4; accuracy: (train=1.000, test=0.949) f1: (train=1.000, test=0.949) precision: (train=1.000, test=0.950) recall: (train=1.000, test=0.948) total time=  23.8s\n",
      "[CV 3/3] END C=100, coef0=0.0, degree=4; accuracy: (train=1.000, test=0.955) f1: (train=1.000, test=0.955) precision: (train=1.000, test=0.956) recall: (train=1.000, test=0.955) total time=  24.1s\n",
      "[CV 1/3] END C=0.1, coef0=0.5, degree=2; accuracy: (train=0.945, test=0.937) f1: (train=0.945, test=0.936) precision: (train=0.945, test=0.936) recall: (train=0.945, test=0.936) total time=  45.5s\n",
      "[CV 2/3] END C=0.1, coef0=0.5, degree=2; accuracy: (train=0.946, test=0.932) f1: (train=0.945, test=0.931) precision: (train=0.946, test=0.931) recall: (train=0.945, test=0.931) total time=  44.3s\n",
      "[CV 3/3] END C=0.1, coef0=0.5, degree=2; accuracy: (train=0.943, test=0.937) f1: (train=0.943, test=0.937) precision: (train=0.943, test=0.937) recall: (train=0.943, test=0.937) total time=  44.2s\n",
      "[CV 1/3] END C=10, coef0=1.0, degree=2; accuracy: (train=1.000, test=0.961) f1: (train=1.000, test=0.960) precision: (train=1.000, test=0.961) recall: (train=1.000, test=0.960) total time=  22.0s\n",
      "[CV 2/3] END C=10, coef0=1.0, degree=2; accuracy: (train=1.000, test=0.960) f1: (train=1.000, test=0.959) precision: (train=1.000, test=0.960) recall: (train=1.000, test=0.959) total time=  22.4s\n",
      "[CV 3/3] END C=10, coef0=1.0, degree=2; accuracy: (train=1.000, test=0.966) f1: (train=1.000, test=0.966) precision: (train=1.000, test=0.966) recall: (train=1.000, test=0.966) total time=  22.1s\n",
      "[CV 1/3] END C=0.01, coef0=1.0, degree=2; accuracy: (train=0.898, test=0.896) f1: (train=0.898, test=0.895) precision: (train=0.900, test=0.897) recall: (train=0.897, test=0.894) total time= 1.5min\n",
      "[CV 2/3] END C=0.01, coef0=1.0, degree=2; accuracy: (train=0.900, test=0.890) f1: (train=0.899, test=0.889) precision: (train=0.902, test=0.891) recall: (train=0.899, test=0.888) total time= 1.5min\n",
      "[CV 3/3] END C=0.01, coef0=1.0, degree=2; accuracy: (train=0.897, test=0.899) f1: (train=0.896, test=0.898) precision: (train=0.898, test=0.900) recall: (train=0.896, test=0.898) total time= 1.5min\n",
      "[CV 1/3] END C=10, coef0=1.0, degree=4; accuracy: (train=1.000, test=0.965) f1: (train=1.000, test=0.965) precision: (train=1.000, test=0.966) recall: (train=1.000, test=0.965) total time=  22.6s\n",
      "[CV 2/3] END C=10, coef0=1.0, degree=4; accuracy: (train=1.000, test=0.965) f1: (train=1.000, test=0.964) precision: (train=1.000, test=0.965) recall: (train=1.000, test=0.964) total time=  21.9s\n",
      "[CV 3/3] END C=10, coef0=1.0, degree=4; accuracy: (train=1.000, test=0.971) f1: (train=1.000, test=0.970) precision: (train=1.000, test=0.970) recall: (train=1.000, test=0.970) total time=  22.5s\n",
      "[CV 1/3] END C=0.1, coef0=0.0, degree=4; accuracy: (train=0.897, test=0.874) f1: (train=0.906, test=0.882) precision: (train=0.929, test=0.906) recall: (train=0.896, test=0.872) total time= 1.2min\n",
      "[CV 2/3] END C=0.1, coef0=0.0, degree=4; accuracy: (train=0.897, test=0.870) f1: (train=0.905, test=0.879) precision: (train=0.927, test=0.905) recall: (train=0.896, test=0.868) total time= 1.1min\n",
      "[CV 3/3] END C=0.1, coef0=0.0, degree=4; accuracy: (train=0.896, test=0.878) f1: (train=0.904, test=0.886) precision: (train=0.925, test=0.909) recall: (train=0.895, test=0.877) total time= 1.2min\n",
      "[CV 1/3] END C=100, coef0=0.5, degree=2; accuracy: (train=1.000, test=0.965) f1: (train=1.000, test=0.964) precision: (train=1.000, test=0.965) recall: (train=1.000, test=0.964) total time=  21.6s\n",
      "[CV 2/3] END C=100, coef0=0.5, degree=2; accuracy: (train=1.000, test=0.963) f1: (train=1.000, test=0.963) precision: (train=1.000, test=0.963) recall: (train=1.000, test=0.962) total time=  23.0s\n",
      "[CV 3/3] END C=100, coef0=0.5, degree=2; accuracy: (train=1.000, test=0.968) f1: (train=1.000, test=0.968) precision: (train=1.000, test=0.968) recall: (train=1.000, test=0.968) total time=  23.2s\n",
      "[CV 1/3] END C=10, coef0=0.5, degree=2; accuracy: (train=1.000, test=0.964) f1: (train=1.000, test=0.964) precision: (train=1.000, test=0.965) recall: (train=1.000, test=0.964) total time=  23.1s\n",
      "[CV 2/3] END C=10, coef0=0.5, degree=2; accuracy: (train=1.000, test=0.963) f1: (train=1.000, test=0.962) precision: (train=1.000, test=0.962) recall: (train=1.000, test=0.962) total time=  21.3s\n",
      "[CV 3/3] END C=10, coef0=0.5, degree=2; accuracy: (train=1.000, test=0.969) f1: (train=1.000, test=0.968) precision: (train=1.000, test=0.969) recall: (train=1.000, test=0.968) total time=  21.2s\n",
      "[CV 1/3] END C=30, coef0=1.0, degree=4; accuracy: (train=1.000, test=0.965) f1: (train=1.000, test=0.965) precision: (train=1.000, test=0.966) recall: (train=1.000, test=0.965) total time=  22.6s\n",
      "[CV 2/3] END C=30, coef0=1.0, degree=4; accuracy: (train=1.000, test=0.965) f1: (train=1.000, test=0.964) precision: (train=1.000, test=0.965) recall: (train=1.000, test=0.964) total time=  22.6s\n",
      "[CV 3/3] END C=30, coef0=1.0, degree=4; accuracy: (train=1.000, test=0.971) f1: (train=1.000, test=0.970) precision: (train=1.000, test=0.970) recall: (train=1.000, test=0.970) total time=  22.6s\n",
      "[CV 1/3] END C=0.01, coef0=0.5, degree=2; accuracy: (train=0.887, test=0.886) f1: (train=0.886, test=0.885) precision: (train=0.890, test=0.888) recall: (train=0.886, test=0.884) total time= 1.6min\n",
      "[CV 2/3] END C=0.01, coef0=0.5, degree=2; accuracy: (train=0.888, test=0.877) f1: (train=0.887, test=0.876) precision: (train=0.891, test=0.881) recall: (train=0.886, test=0.876) total time= 1.7min\n",
      "[CV 3/3] END C=0.01, coef0=0.5, degree=2; accuracy: (train=0.884, test=0.886) f1: (train=0.883, test=0.885) precision: (train=0.887, test=0.890) recall: (train=0.883, test=0.885) total time= 1.7min\n",
      "[CV 1/3] END C=30, coef0=0.0, degree=3; accuracy: (train=1.000, test=0.961) f1: (train=1.000, test=0.961) precision: (train=1.000, test=0.961) recall: (train=1.000, test=0.961) total time=  20.7s\n",
      "[CV 2/3] END C=30, coef0=0.0, degree=3; accuracy: (train=1.000, test=0.960) f1: (train=1.000, test=0.960) precision: (train=1.000, test=0.960) recall: (train=1.000, test=0.959) total time=  20.5s\n",
      "[CV 3/3] END C=30, coef0=0.0, degree=3; accuracy: (train=1.000, test=0.966) f1: (train=1.000, test=0.966) precision: (train=1.000, test=0.966) recall: (train=1.000, test=0.966) total time=  22.2s\n",
      "[CV 1/3] END C=0.1, coef0=1.0, degree=4; accuracy: (train=0.992, test=0.963) f1: (train=0.992, test=0.963) precision: (train=0.992, test=0.963) recall: (train=0.992, test=0.963) total time=  25.9s\n",
      "[CV 2/3] END C=0.1, coef0=1.0, degree=4; accuracy: (train=0.991, test=0.960) f1: (train=0.991, test=0.960) precision: (train=0.991, test=0.960) recall: (train=0.991, test=0.960) total time=  25.7s\n",
      "[CV 3/3] END C=0.1, coef0=1.0, degree=4; accuracy: (train=0.991, test=0.964) f1: (train=0.991, test=0.964) precision: (train=0.991, test=0.964) recall: (train=0.991, test=0.964) total time=  25.9s\n",
      "[CV 1/3] END C=0.1, coef0=0.5, degree=4; accuracy: (train=0.980, test=0.956) f1: (train=0.980, test=0.956) precision: (train=0.981, test=0.956) recall: (train=0.980, test=0.956) total time=  33.1s\n",
      "[CV 2/3] END C=0.1, coef0=0.5, degree=4; accuracy: (train=0.979, test=0.955) f1: (train=0.979, test=0.955) precision: (train=0.979, test=0.955) recall: (train=0.979, test=0.955) total time=  34.8s\n",
      "[CV 3/3] END C=0.1, coef0=0.5, degree=4; accuracy: (train=0.978, test=0.957) f1: (train=0.978, test=0.957) precision: (train=0.978, test=0.957) recall: (train=0.978, test=0.957) total time=  35.8s\n",
      "[CV 1/3] END C=0.1, coef0=0.5, degree=3; accuracy: (train=0.967, test=0.951) f1: (train=0.966, test=0.951) precision: (train=0.967, test=0.952) recall: (train=0.966, test=0.951) total time=  38.3s\n",
      "[CV 2/3] END C=0.1, coef0=0.5, degree=3; accuracy: (train=0.965, test=0.949) f1: (train=0.965, test=0.949) precision: (train=0.966, test=0.949) recall: (train=0.965, test=0.949) total time=  37.2s\n",
      "[CV 3/3] END C=0.1, coef0=0.5, degree=3; accuracy: (train=0.965, test=0.951) f1: (train=0.965, test=0.951) precision: (train=0.965, test=0.951) recall: (train=0.965, test=0.951) total time=  37.1s\n",
      "[CV 1/3] END C=30, coef0=1.0, degree=2; accuracy: (train=1.000, test=0.960) f1: (train=1.000, test=0.960) precision: (train=1.000, test=0.960) recall: (train=1.000, test=0.960) total time=  21.6s\n",
      "[CV 2/3] END C=30, coef0=1.0, degree=2; accuracy: (train=1.000, test=0.960) f1: (train=1.000, test=0.959) precision: (train=1.000, test=0.960) recall: (train=1.000, test=0.959) total time=  22.1s\n",
      "[CV 3/3] END C=30, coef0=1.0, degree=2; accuracy: (train=1.000, test=0.966) f1: (train=1.000, test=0.965) precision: (train=1.000, test=0.966) recall: (train=1.000, test=0.965) total time=  21.5s\n"
     ]
    }
   ],
   "source": [
    "from sklearn.svm import SVC\n",
    "from sklearn.model_selection import RandomizedSearchCV\n",
    "import joblib\n",
    "import json\n",
    "import time\n",
    "\n",
    "param_dist = {\n",
    "    'C': [0.01, 0.1, 1, 10, 30, 100],\n",
    "    'degree': [2, 3, 4],\n",
    "    'coef0': [0.0, 0.5, 1.0]\n",
    "}\n",
    "\n",
    "scoring = {\n",
    "    'accuracy': 'accuracy',\n",
    "    'precision': 'precision_macro',\n",
    "    'recall': 'recall_macro',\n",
    "    'f1': 'f1_macro'\n",
    "}\n",
    "\n",
    "svm_poly_clf = SVC(kernel='poly', random_state=42)\n",
    "\n",
    "svm_poly_random_search = RandomizedSearchCV(svm_poly_clf, param_distributions=param_dist, cv=3, n_iter=15, scoring=scoring, refit='accuracy', verbose=3, return_train_score=True)\n",
    "\n",
    "svm_poly_random_start_time = time.time()\n",
    "svm_poly_random_search.fit(X_train_subset, y_train_subset)\n",
    "svm_poly_random_end_time = time.time()\n",
    "\n",
    "joblib.dump(svm_poly_random_search, 'svm_poly_random_search.pkl')\n",
    "\n",
    "svm_poly_time_data = {\n",
    "    'svm_poly_random_start_time': svm_poly_random_start_time,\n",
    "    'svm_poly_random_end_time': svm_poly_random_end_time\n",
    "}\n",
    "\n",
    "with open('svm_poly_times.json', 'w') as f:\n",
    "    json.dump(svm_poly_time_data, f)"
   ]
  },
  {
   "cell_type": "markdown",
   "id": "65DyzfIeAHUG",
   "metadata": {
    "id": "65DyzfIeAHUG"
   },
   "source": [
    "# **SVM Linear Kernel Randomized Search**"
   ]
  },
  {
   "cell_type": "code",
   "execution_count": 5,
   "id": "9z4A6EHM9g0r",
   "metadata": {
    "colab": {
     "base_uri": "https://localhost:8080/"
    },
    "id": "9z4A6EHM9g0r",
    "outputId": "0b6d9aef-4b6c-4fc5-8880-d4ba320a7c92"
   },
   "outputs": [
    {
     "name": "stdout",
     "output_type": "stream",
     "text": [
      "Fitting 3 folds for each of 15 candidates, totalling 45 fits\n",
      "[CV 1/3] END C=0.0379269019073225; accuracy: (train=1.000, test=0.913) f1: (train=1.000, test=0.912) precision: (train=1.000, test=0.913) recall: (train=1.000, test=0.912) total time=  26.3s\n",
      "[CV 2/3] END C=0.0379269019073225; accuracy: (train=1.000, test=0.904) f1: (train=1.000, test=0.902) precision: (train=1.000, test=0.903) recall: (train=1.000, test=0.902) total time=  25.3s\n",
      "[CV 3/3] END C=0.0379269019073225; accuracy: (train=1.000, test=0.917) f1: (train=1.000, test=0.916) precision: (train=1.000, test=0.917) recall: (train=1.000, test=0.916) total time=  27.9s\n",
      "[CV 1/3] END C=1.438449888287663; accuracy: (train=1.000, test=0.913) f1: (train=1.000, test=0.912) precision: (train=1.000, test=0.913) recall: (train=1.000, test=0.912) total time=  25.1s\n",
      "[CV 2/3] END C=1.438449888287663; accuracy: (train=1.000, test=0.904) f1: (train=1.000, test=0.902) precision: (train=1.000, test=0.903) recall: (train=1.000, test=0.902) total time=  25.8s\n",
      "[CV 3/3] END C=1.438449888287663; accuracy: (train=1.000, test=0.917) f1: (train=1.000, test=0.916) precision: (train=1.000, test=0.917) recall: (train=1.000, test=0.916) total time=  26.5s\n",
      "[CV 1/3] END C=112.88378916846884; accuracy: (train=1.000, test=0.913) f1: (train=1.000, test=0.912) precision: (train=1.000, test=0.913) recall: (train=1.000, test=0.912) total time=  24.4s\n",
      "[CV 2/3] END C=112.88378916846884; accuracy: (train=1.000, test=0.904) f1: (train=1.000, test=0.902) precision: (train=1.000, test=0.903) recall: (train=1.000, test=0.902) total time=  25.0s\n",
      "[CV 3/3] END C=112.88378916846884; accuracy: (train=1.000, test=0.917) f1: (train=1.000, test=0.916) precision: (train=1.000, test=0.917) recall: (train=1.000, test=0.916) total time=  25.7s\n",
      "[CV 1/3] END C=0.6951927961775606; accuracy: (train=1.000, test=0.913) f1: (train=1.000, test=0.912) precision: (train=1.000, test=0.913) recall: (train=1.000, test=0.912) total time=  24.5s\n",
      "[CV 2/3] END C=0.6951927961775606; accuracy: (train=1.000, test=0.904) f1: (train=1.000, test=0.902) precision: (train=1.000, test=0.903) recall: (train=1.000, test=0.902) total time=  24.6s\n",
      "[CV 3/3] END C=0.6951927961775606; accuracy: (train=1.000, test=0.917) f1: (train=1.000, test=0.916) precision: (train=1.000, test=0.917) recall: (train=1.000, test=0.916) total time=  25.5s\n",
      "[CV 1/3] END C=26.366508987303554; accuracy: (train=1.000, test=0.913) f1: (train=1.000, test=0.912) precision: (train=1.000, test=0.913) recall: (train=1.000, test=0.912) total time=  23.6s\n",
      "[CV 2/3] END C=26.366508987303554; accuracy: (train=1.000, test=0.904) f1: (train=1.000, test=0.902) precision: (train=1.000, test=0.903) recall: (train=1.000, test=0.902) total time=  24.6s\n",
      "[CV 3/3] END C=26.366508987303554; accuracy: (train=1.000, test=0.917) f1: (train=1.000, test=0.916) precision: (train=1.000, test=0.917) recall: (train=1.000, test=0.916) total time=  25.2s\n",
      "[CV 1/3] END C=0.001; accuracy: (train=1.000, test=0.913) f1: (train=1.000, test=0.912) precision: (train=1.000, test=0.913) recall: (train=1.000, test=0.912) total time=  24.9s\n",
      "[CV 2/3] END C=0.001; accuracy: (train=1.000, test=0.904) f1: (train=1.000, test=0.902) precision: (train=1.000, test=0.903) recall: (train=1.000, test=0.902) total time=  25.2s\n",
      "[CV 3/3] END C=0.001; accuracy: (train=1.000, test=0.917) f1: (train=1.000, test=0.916) precision: (train=1.000, test=0.917) recall: (train=1.000, test=0.916) total time=  26.4s\n",
      "[CV 1/3] END C=0.018329807108324356; accuracy: (train=1.000, test=0.913) f1: (train=1.000, test=0.912) precision: (train=1.000, test=0.913) recall: (train=1.000, test=0.912) total time=  25.6s\n",
      "[CV 2/3] END C=0.018329807108324356; accuracy: (train=1.000, test=0.904) f1: (train=1.000, test=0.902) precision: (train=1.000, test=0.903) recall: (train=1.000, test=0.902) total time=  25.2s\n",
      "[CV 3/3] END C=0.018329807108324356; accuracy: (train=1.000, test=0.917) f1: (train=1.000, test=0.916) precision: (train=1.000, test=0.917) recall: (train=1.000, test=0.916) total time=  25.8s\n",
      "[CV 1/3] END C=1000.0; accuracy: (train=1.000, test=0.913) f1: (train=1.000, test=0.912) precision: (train=1.000, test=0.913) recall: (train=1.000, test=0.912) total time=  25.4s\n",
      "[CV 2/3] END C=1000.0; accuracy: (train=1.000, test=0.904) f1: (train=1.000, test=0.902) precision: (train=1.000, test=0.903) recall: (train=1.000, test=0.902) total time=  26.4s\n",
      "[CV 3/3] END C=1000.0; accuracy: (train=1.000, test=0.917) f1: (train=1.000, test=0.916) precision: (train=1.000, test=0.917) recall: (train=1.000, test=0.916) total time=  26.9s\n",
      "[CV 1/3] END C=483.2930238571752; accuracy: (train=1.000, test=0.913) f1: (train=1.000, test=0.912) precision: (train=1.000, test=0.913) recall: (train=1.000, test=0.912) total time=  25.4s\n",
      "[CV 2/3] END C=483.2930238571752; accuracy: (train=1.000, test=0.904) f1: (train=1.000, test=0.902) precision: (train=1.000, test=0.903) recall: (train=1.000, test=0.902) total time=  25.3s\n",
      "[CV 3/3] END C=483.2930238571752; accuracy: (train=1.000, test=0.917) f1: (train=1.000, test=0.916) precision: (train=1.000, test=0.917) recall: (train=1.000, test=0.916) total time=  25.8s\n",
      "[CV 1/3] END C=2.976351441631316; accuracy: (train=1.000, test=0.913) f1: (train=1.000, test=0.912) precision: (train=1.000, test=0.913) recall: (train=1.000, test=0.912) total time=  25.1s\n",
      "[CV 2/3] END C=2.976351441631316; accuracy: (train=1.000, test=0.904) f1: (train=1.000, test=0.902) precision: (train=1.000, test=0.903) recall: (train=1.000, test=0.902) total time=  25.4s\n",
      "[CV 3/3] END C=2.976351441631316; accuracy: (train=1.000, test=0.917) f1: (train=1.000, test=0.916) precision: (train=1.000, test=0.917) recall: (train=1.000, test=0.916) total time=  27.4s\n",
      "[CV 1/3] END C=54.555947811685144; accuracy: (train=1.000, test=0.913) f1: (train=1.000, test=0.912) precision: (train=1.000, test=0.913) recall: (train=1.000, test=0.912) total time=  26.0s\n",
      "[CV 2/3] END C=54.555947811685144; accuracy: (train=1.000, test=0.904) f1: (train=1.000, test=0.902) precision: (train=1.000, test=0.903) recall: (train=1.000, test=0.902) total time=  26.0s\n",
      "[CV 3/3] END C=54.555947811685144; accuracy: (train=1.000, test=0.917) f1: (train=1.000, test=0.916) precision: (train=1.000, test=0.917) recall: (train=1.000, test=0.916) total time=  25.8s\n",
      "[CV 1/3] END C=6.158482110660261; accuracy: (train=1.000, test=0.913) f1: (train=1.000, test=0.912) precision: (train=1.000, test=0.913) recall: (train=1.000, test=0.912) total time=  24.7s\n",
      "[CV 2/3] END C=6.158482110660261; accuracy: (train=1.000, test=0.904) f1: (train=1.000, test=0.902) precision: (train=1.000, test=0.903) recall: (train=1.000, test=0.902) total time=  25.1s\n",
      "[CV 3/3] END C=6.158482110660261; accuracy: (train=1.000, test=0.917) f1: (train=1.000, test=0.916) precision: (train=1.000, test=0.917) recall: (train=1.000, test=0.916) total time=  25.6s\n",
      "[CV 1/3] END C=0.1623776739188721; accuracy: (train=1.000, test=0.913) f1: (train=1.000, test=0.912) precision: (train=1.000, test=0.913) recall: (train=1.000, test=0.912) total time=  24.9s\n",
      "[CV 2/3] END C=0.1623776739188721; accuracy: (train=1.000, test=0.904) f1: (train=1.000, test=0.902) precision: (train=1.000, test=0.903) recall: (train=1.000, test=0.902) total time=  24.8s\n",
      "[CV 3/3] END C=0.1623776739188721; accuracy: (train=1.000, test=0.917) f1: (train=1.000, test=0.916) precision: (train=1.000, test=0.917) recall: (train=1.000, test=0.916) total time=  26.3s\n",
      "[CV 1/3] END C=0.07847599703514611; accuracy: (train=1.000, test=0.913) f1: (train=1.000, test=0.912) precision: (train=1.000, test=0.913) recall: (train=1.000, test=0.912) total time=  24.3s\n",
      "[CV 2/3] END C=0.07847599703514611; accuracy: (train=1.000, test=0.904) f1: (train=1.000, test=0.902) precision: (train=1.000, test=0.903) recall: (train=1.000, test=0.902) total time=  25.0s\n",
      "[CV 3/3] END C=0.07847599703514611; accuracy: (train=1.000, test=0.917) f1: (train=1.000, test=0.916) precision: (train=1.000, test=0.917) recall: (train=1.000, test=0.916) total time=  26.3s\n",
      "[CV 1/3] END C=0.00206913808111479; accuracy: (train=1.000, test=0.913) f1: (train=1.000, test=0.912) precision: (train=1.000, test=0.913) recall: (train=1.000, test=0.912) total time=  25.7s\n",
      "[CV 2/3] END C=0.00206913808111479; accuracy: (train=1.000, test=0.904) f1: (train=1.000, test=0.902) precision: (train=1.000, test=0.903) recall: (train=1.000, test=0.902) total time=  25.6s\n",
      "[CV 3/3] END C=0.00206913808111479; accuracy: (train=1.000, test=0.917) f1: (train=1.000, test=0.916) precision: (train=1.000, test=0.917) recall: (train=1.000, test=0.916) total time=  25.4s\n"
     ]
    }
   ],
   "source": [
    "from sklearn.svm import SVC\n",
    "from sklearn.model_selection import RandomizedSearchCV\n",
    "import numpy as np\n",
    "import json\n",
    "import joblib\n",
    "import time\n",
    "\n",
    "param_dist = {'C': np.logspace(-3, 3, 20)}\n",
    "\n",
    "scoring = {\n",
    "    'accuracy': 'accuracy',\n",
    "    'precision': 'precision_macro',\n",
    "    'recall': 'recall_macro',\n",
    "    'f1': 'f1_macro'\n",
    "}\n",
    "\n",
    "svm_lin_clf = SVC(kernel='linear', random_state=42)\n",
    "\n",
    "svm_lin_random_search = RandomizedSearchCV(svm_lin_clf, param_distributions=param_dist, cv=3, n_iter=15, scoring=scoring, refit='accuracy', verbose=3, return_train_score=True)\n",
    "\n",
    "svm_lin_random_start_time = time.time()\n",
    "svm_lin_random_search.fit(X_train_subset, y_train_subset)\n",
    "svm_lin_random_end_time = time.time()\n",
    "\n",
    "joblib.dump(svm_lin_random_search, 'svm_lin_random_search.pkl')\n",
    "\n",
    "svm_lin_time_data = {\n",
    "    'svm_lin_random_start_time': svm_lin_random_start_time,\n",
    "    'svm_lin_random_end_time': svm_lin_random_end_time\n",
    "}\n",
    "\n",
    "with open('svm_lin_times.json', 'w') as f:\n",
    "    json.dump(svm_lin_time_data, f)"
   ]
  },
  {
   "cell_type": "markdown",
   "id": "WZFUB5G8W4VW",
   "metadata": {
    "id": "WZFUB5G8W4VW"
   },
   "source": [
    "# **Analysis**"
   ]
  },
  {
   "cell_type": "code",
   "execution_count": 13,
   "id": "aQPp7oeyW7_q",
   "metadata": {
    "id": "aQPp7oeyW7_q"
   },
   "outputs": [],
   "source": [
    "import joblib\n",
    "\n",
    "trained_models = [\n",
    "    {'svm_poly_random_search': joblib.load('svm_poly_random_search.pkl')},\n",
    "    {'svm_rbf_random_search': joblib.load('svm_rbf_random_search.pkl')},\n",
    "    {'svm_lin_random_search': joblib.load('svm_lin_random_search.pkl')},\n",
    "    {'forest_clf_random_search': joblib.load('forest_clf_random_search.pkl')},\n",
    "    {'sgd_random_search': joblib.load('sgd_random_search.pkl')},\n",
    "    {'knn_random_search': joblib.load('knn_random_search.pkl')}\n",
    "]"
   ]
  },
  {
   "cell_type": "code",
   "execution_count": 41,
   "id": "jU0Ada1feACV",
   "metadata": {
    "id": "jU0Ada1feACV"
   },
   "outputs": [],
   "source": [
    "import numpy as np\n",
    "\n",
    "def extract_best_params_per_metric(trained_models):\n",
    "    best_params_dict = {}\n",
    "\n",
    "    for model in trained_models:\n",
    "        model_name = list(model.keys())[0]\n",
    "        model_object = list(model.values())[0]\n",
    "\n",
    "        cv_results = model_object.cv_results_\n",
    "\n",
    "        best_accuracy_params = model_object.best_params_\n",
    "        best_accuracy_value = model_object.best_score_\n",
    "\n",
    "        best_precision_index = np.argmax(cv_results['mean_test_precision'])\n",
    "        best_precision_params = cv_results['params'][best_precision_index]\n",
    "        best_precision_value = cv_results['mean_test_precision'][best_precision_index]\n",
    "\n",
    "        best_recall_index = np.argmax(cv_results['mean_test_recall'])\n",
    "        best_recall_params = cv_results['params'][best_recall_index]\n",
    "        best_recall_value = cv_results['mean_test_recall'][best_recall_index]\n",
    "\n",
    "        best_f1_index = np.argmax(cv_results['mean_test_f1'])\n",
    "        best_f1_params = cv_results['params'][best_f1_index]\n",
    "        best_f1_value = cv_results['mean_test_f1'][best_f1_index]\n",
    "\n",
    "        model_best_params = {\n",
    "            'best_accuracy_params': best_accuracy_params,\n",
    "            'best_accuracy_value': best_accuracy_value,\n",
    "            'best_precision_params': best_precision_params,\n",
    "            'best_precision_value': best_precision_value,\n",
    "            'best_recall_params': best_recall_params,\n",
    "            'best_recall_value': best_recall_value,\n",
    "            'best_f1_params': best_f1_params,\n",
    "            'best_f1_value': best_f1_value\n",
    "        }\n",
    "\n",
    "        best_params_dict[model_name] = model_best_params\n",
    "\n",
    "    return best_params_dict"
   ]
  },
  {
   "cell_type": "code",
   "execution_count": 42,
   "id": "3d998d4a-6486-4f7c-af70-d638f861a473",
   "metadata": {},
   "outputs": [],
   "source": [
    "best_models_summary = extract_best_params_per_metric(trained_models)"
   ]
  },
  {
   "cell_type": "code",
   "execution_count": 43,
   "id": "82ced4f6-0aa7-4fb7-9a2b-211ffba283a0",
   "metadata": {},
   "outputs": [
    {
     "data": {
      "text/plain": [
       "{'svm_poly_random_search': {'best_accuracy_params': {'degree': 4,\n",
       "   'coef0': 1.0,\n",
       "   'C': 10},\n",
       "  'best_accuracy_value': 0.9669001848437432,\n",
       "  'best_precision_params': {'degree': 4, 'coef0': 1.0, 'C': 10},\n",
       "  'best_precision_value': 0.9668713944320227,\n",
       "  'best_recall_params': {'degree': 4, 'coef0': 1.0, 'C': 10},\n",
       "  'best_recall_value': 0.9664963571050302,\n",
       "  'best_f1_params': {'degree': 4, 'coef0': 1.0, 'C': 10},\n",
       "  'best_f1_value': 0.9666031478066559},\n",
       " 'svm_rbf_random_search': {'best_accuracy_params': {'gamma': 'scale', 'C': 10},\n",
       "  'best_accuracy_value': 0.9715501323643689,\n",
       "  'best_precision_params': {'gamma': 'scale', 'C': 10},\n",
       "  'best_precision_value': 0.9715523447755533,\n",
       "  'best_recall_params': {'gamma': 'scale', 'C': 10},\n",
       "  'best_recall_value': 0.9712523093822876,\n",
       "  'best_f1_params': {'gamma': 'scale', 'C': 10},\n",
       "  'best_f1_value': 0.9713329583953455},\n",
       " 'svm_lin_random_search': {'best_accuracy_params': {'C': 0.0379269019073225},\n",
       "  'best_accuracy_value': 0.9114002895714801,\n",
       "  'best_precision_params': {'C': 0.0379269019073225},\n",
       "  'best_precision_value': 0.9108508627214832,\n",
       "  'best_recall_params': {'C': 0.0379269019073225},\n",
       "  'best_recall_value': 0.9101526865086296,\n",
       "  'best_f1_params': {'C': 0.0379269019073225},\n",
       "  'best_f1_value': 0.9101386159928179},\n",
       " 'forest_clf_random_search': {'best_accuracy_params': {'max_depth': None,\n",
       "   'min_samples_split': 2,\n",
       "   'n_estimators': 85},\n",
       "  'best_accuracy_value': 0.9531000197664885,\n",
       "  'best_precision_params': {'max_depth': None,\n",
       "   'min_samples_split': 2,\n",
       "   'n_estimators': 85},\n",
       "  'best_precision_value': 0.9527279475197191,\n",
       "  'best_recall_params': {'max_depth': None,\n",
       "   'min_samples_split': 2,\n",
       "   'n_estimators': 85},\n",
       "  'best_recall_value': 0.95266061012118,\n",
       "  'best_f1_params': {'max_depth': None,\n",
       "   'min_samples_split': 2,\n",
       "   'n_estimators': 85},\n",
       "  'best_f1_value': 0.9526166300556141},\n",
       " 'sgd_random_search': {'best_accuracy_params': {'loss': 'log_loss',\n",
       "   'eta0': 0.01,\n",
       "   'alpha': 1},\n",
       "  'best_accuracy_value': 0.8852500219273466,\n",
       "  'best_precision_params': {'loss': 'log_loss', 'eta0': 0.01, 'alpha': 1},\n",
       "  'best_precision_value': 0.8867629759372454,\n",
       "  'best_recall_params': {'loss': 'log_loss', 'eta0': 0.01, 'alpha': 1},\n",
       "  'best_recall_value': 0.8836520139509286,\n",
       "  'best_f1_params': {'loss': 'log_loss', 'eta0': 0.01, 'alpha': 1},\n",
       "  'best_f1_value': 0.8839096543769441},\n",
       " 'knn_random_search': {'best_accuracy_params': {'n_neighbors': 3,\n",
       "   'weights': 'distance'},\n",
       "  'best_accuracy_value': 0.95595012478599,\n",
       "  'best_precision_params': {'n_neighbors': 3, 'weights': 'distance'},\n",
       "  'best_precision_value': 0.9565884062984361,\n",
       "  'best_recall_params': {'n_neighbors': 3, 'weights': 'distance'},\n",
       "  'best_recall_value': 0.9553144685828716,\n",
       "  'best_f1_params': {'n_neighbors': 3, 'weights': 'distance'},\n",
       "  'best_f1_value': 0.955639086751213}}"
      ]
     },
     "execution_count": 43,
     "metadata": {},
     "output_type": "execute_result"
    }
   ],
   "source": [
    "best_models_summary"
   ]
  },
  {
   "cell_type": "code",
   "execution_count": 53,
   "id": "G9ehvINEqrhT",
   "metadata": {
    "id": "G9ehvINEqrhT"
   },
   "outputs": [],
   "source": [
    "model_training_start_end_times_file = [\n",
    "    'knn_times.json',\n",
    "    'sgd_times.json',\n",
    "    'forest_times.json',\n",
    "    'svm_rbf_times.json',\n",
    "    'svm_poly_times.json',\n",
    "    'svm_lin_times.json'\n",
    "]"
   ]
  },
  {
   "cell_type": "code",
   "execution_count": 71,
   "id": "gdHf-CvWvKKU",
   "metadata": {
    "id": "gdHf-CvWvKKU"
   },
   "outputs": [],
   "source": [
    "import os\n",
    "import json\n",
    "\n",
    "def calc_training_times(time_file):\n",
    "    times = {}\n",
    "    for file in time_file:\n",
    "        with open(file, 'r') as f:\n",
    "            time_data = json.load(f)\n",
    "        \n",
    "        start_time = time_data[list(time_data.keys())[0]]\n",
    "        end_time = time_data[list(time_data.keys())[1]]\n",
    "        \n",
    "        time_diff = round(abs(end_time - start_time), 2)\n",
    "        \n",
    "        key = os.path.splitext(os.path.basename(file))[0][:-1]\n",
    "        times[key] = time_diff\n",
    "        \n",
    "    return times\n"
   ]
  },
  {
   "cell_type": "code",
   "execution_count": 73,
   "id": "JKnW582lL4W4",
   "metadata": {
    "colab": {
     "base_uri": "https://localhost:8080/"
    },
    "id": "JKnW582lL4W4",
    "outputId": "d9107414-ec67-4ef8-d2c9-c3e25fb5201c"
   },
   "outputs": [
    {
     "data": {
      "text/plain": [
       "{'knn_time': 140.36,\n",
       " 'sgd_time': 1010.8,\n",
       " 'forest_time': 243.77,\n",
       " 'svm_rbf_time': 12641.21,\n",
       " 'svm_poly_time': 3209.58,\n",
       " 'svm_lin_time': 2173.22}"
      ]
     },
     "execution_count": 73,
     "metadata": {},
     "output_type": "execute_result"
    }
   ],
   "source": [
    "times = calc_training_times(model_training_start_end_times_file)\n",
    "times"
   ]
  },
  {
   "cell_type": "code",
   "execution_count": 336,
   "id": "5d9d8b3a-20bc-458a-ae49-77ee626e7763",
   "metadata": {},
   "outputs": [
    {
     "data": {
      "image/png": "[encoded data removed]",
      "text/plain": [
       "<Figure size 800x600 with 2 Axes>"
      ]
     },
     "metadata": {},
     "output_type": "display_data"
    }
   ],
   "source": [
    "import pandas as pd\n",
    "import seaborn as sns\n",
    "import matplotlib.pyplot as plt\n",
    "\n",
    "models = ['KNN', 'SGD', 'Rand Forest', 'RBF SVM', 'Poly SVM', 'Lin SVM']\n",
    "accuracy_values = [\n",
    "    best_models_summary['knn_random_search']['best_accuracy_value'], \n",
    "    best_models_summary['sgd_random_search']['best_accuracy_value'], \n",
    "    best_models_summary['forest_clf_random_search']['best_accuracy_value'], \n",
    "    best_models_summary['svm_rbf_random_search']['best_accuracy_value'], \n",
    "    best_models_summary['svm_poly_random_search']['best_accuracy_value'], \n",
    "    best_models_summary['svm_lin_random_search']['best_accuracy_value']\n",
    "]\n",
    "\n",
    "training_times = [140.36, 1010.8, 243.77, 12641.21, 3209.58, 2173.22]\n",
    "\n",
    "data = {\n",
    "    'Model': models,\n",
    "    'Accuracy': accuracy_values,\n",
    "    'Training Time': training_times\n",
    "}\n",
    "\n",
    "df = pd.DataFrame(data)\n",
    "\n",
    "plt.figure(figsize=(8, 6))\n",
    "ax = sns.lineplot(x='Model', y='Accuracy', data=df, marker='o', linewidth=2)\n",
    "\n",
    "# dotted lines\n",
    "for i, model in enumerate(models):\n",
    "    ax.plot([i, i], [0, accuracy_values[i]], color='gray', linestyle='--', alpha=0.5)\n",
    "\n",
    "plt.title('Models Accuracy and Training Time Comparison', fontsize=16, color='black', weight='bold')\n",
    "plt.xlabel('', fontsize=14)\n",
    "ax.set_ylabel('Accuracy', fontsize=14)\n",
    "plt.xticks(rotation=15)\n",
    "\n",
    "accuracy_min = min(accuracy_values) - 0.01\n",
    "accuracy_max = max(accuracy_values) + 0.01\n",
    "ax.set_ylim(accuracy_min, accuracy_max)\n",
    "\n",
    "ax.tick_params(axis='x', labelsize=14)\n",
    "ax.tick_params(axis='y', labelsize=14)\n",
    "\n",
    "ax2 = ax.twinx()\n",
    "sns.lineplot(x='Model', y='Training Time', data=df, marker='o', color='red', linewidth=2, ax=ax2)\n",
    "\n",
    "ax2.set_ylabel('Training Time (s)', fontsize=14, color='red')\n",
    "ax2.set_ylim(0, max(training_times) * 1.05)\n",
    "\n",
    "ax2.tick_params(axis='y', labelsize=14, colors='red')  # For training times\n",
    "\n",
    "plt.tight_layout()\n",
    "plt.savefig('accuracy_and_time.png')\n",
    "plt.show()\n"
   ]
  },
  {
   "cell_type": "code",
   "execution_count": 338,
   "id": "11f16c64-0c9f-4d91-8e6b-a38c192e94f6",
   "metadata": {},
   "outputs": [
    {
     "data": {
      "image/png": "[encoded data removed]",
      "text/plain": [
       "<Figure size 500x400 with 1 Axes>"
      ]
     },
     "metadata": {},
     "output_type": "display_data"
    }
   ],
   "source": [
    "import pandas as pd\n",
    "import numpy as np\n",
    "import matplotlib.pyplot as plt\n",
    "from pandas.plotting import parallel_coordinates\n",
    "\n",
    "models = ['KNN', 'SGD', 'Rand Forest', 'RBF SVM', 'Poly SVM', 'Lin SVM']\n",
    "metrics = ['Precision', 'Recall', 'F1 Score']\n",
    "\n",
    "data = {\n",
    "    'Model': np.repeat(models, 3),\n",
    "    'Metric': metrics * len(models),\n",
    "    'Value': [\n",
    "        best_models_summary['knn_random_search']['best_precision_value'], \n",
    "        best_models_summary['knn_random_search']['best_recall_value'], \n",
    "        best_models_summary['knn_random_search']['best_f1_value'],\n",
    "        best_models_summary['sgd_random_search']['best_precision_value'], \n",
    "        best_models_summary['sgd_random_search']['best_recall_value'], \n",
    "        best_models_summary['sgd_random_search']['best_f1_value'],\n",
    "        best_models_summary['forest_clf_random_search']['best_precision_value'], \n",
    "        best_models_summary['forest_clf_random_search']['best_recall_value'], \n",
    "        best_models_summary['forest_clf_random_search']['best_f1_value'],\n",
    "        best_models_summary['svm_rbf_random_search']['best_precision_value'], \n",
    "        best_models_summary['svm_rbf_random_search']['best_recall_value'], \n",
    "        best_models_summary['svm_rbf_random_search']['best_f1_value'],\n",
    "        best_models_summary['svm_poly_random_search']['best_precision_value'], \n",
    "        best_models_summary['svm_poly_random_search']['best_recall_value'], \n",
    "        best_models_summary['svm_poly_random_search']['best_f1_value'],\n",
    "        best_models_summary['svm_lin_random_search']['best_precision_value'], \n",
    "        best_models_summary['svm_lin_random_search']['best_recall_value'], \n",
    "        best_models_summary['svm_lin_random_search']['best_f1_value']\n",
    "    ]\n",
    "}\n",
    "\n",
    "df = pd.DataFrame(data)\n",
    "\n",
    "df_pivot = df.pivot(index='Model', columns='Metric', values='Value').reset_index()\n",
    "\n",
    "model_order = ['KNN', 'SGD', 'Rand Forest', 'RBF SVM', 'Poly SVM', 'Lin SVM']\n",
    "df_pivot['Model'] = pd.Categorical(df_pivot['Model'], categories=model_order, ordered=True)\n",
    "df_pivot = df_pivot.sort_values('Model').reset_index(drop=True)\n",
    "\n",
    "plt.figure(figsize=(5, 4))\n",
    "parallel_coordinates(df_pivot, 'Model', color=('#C7F464', '#CCCCCC', '#FC4242', '#FAFA25', '#D17E0F', '#595248'), linewidth=3)\n",
    "\n",
    "plt.title('Precision, recall and F1 comparison',fontsize=16, color='black', weight='bold')\n",
    "plt.ylabel('Performance', fontsize=14)\n",
    "plt.xlabel('', fontsize=14)\n",
    "plt.xticks(rotation=15, fontsize=14)\n",
    "plt.yticks(fontsize=14)\n",
    "plt.ylim(0.85, 1.0)\n",
    "\n",
    "handles = [plt.Line2D([0], [0], color='#C7F464', lw=5),\n",
    "           plt.Line2D([0], [0], color='#CCCCCC', lw=5),\n",
    "           plt.Line2D([0], [0], color='#FC4242', lw=5),\n",
    "           plt.Line2D([0], [0], color='#FAFA25', lw=5),\n",
    "           plt.Line2D([0], [0], color='#D17E0F', lw=5),\n",
    "           plt.Line2D([0], [0], color='#595248', lw=5)]\n",
    "\n",
    "plt.legend(handles, models, loc='upper left', bbox_to_anchor=(1, 1), fontsize=10)\n",
    "\n",
    "plt.grid()\n",
    "plt.tight_layout()\n",
    "plt.savefig('precision_recall_f1_comparison.png')\n",
    "plt.show()\n"
   ]
  },
  {
   "cell_type": "code",
   "execution_count": 328,
   "id": "a0781071-82d6-48ae-97df-0e67f0f49d42",
   "metadata": {},
   "outputs": [
    {
     "name": "stderr",
     "output_type": "stream",
     "text": [
      "C:\\Users\\OMID\\anaconda3\\Lib\\site-packages\\sklearn\\base.py:376: InconsistentVersionWarning: Trying to unpickle estimator SVC from version 1.5.2 when using version 1.4.2. This might lead to breaking code or invalid results. Use at your own risk. For more info please refer to:\n",
      "https://scikit-learn.org/stable/model_persistence.html#security-maintainability-limitations\n",
      "  warnings.warn(\n",
      "C:\\Users\\OMID\\anaconda3\\Lib\\site-packages\\sklearn\\base.py:376: InconsistentVersionWarning: Trying to unpickle estimator RandomizedSearchCV from version 1.5.2 when using version 1.4.2. This might lead to breaking code or invalid results. Use at your own risk. For more info please refer to:\n",
      "https://scikit-learn.org/stable/model_persistence.html#security-maintainability-limitations\n",
      "  warnings.warn(\n"
     ]
    },
    {
     "name": "stdout",
     "output_type": "stream",
     "text": [
      "Accuracy: 0.9743\n",
      "Precision: 0.9743\n",
      "Recall: 0.97\n",
      "F1 Score: 0.9741\n"
     ]
    }
   ],
   "source": [
    "import joblib\n",
    "from sklearn.metrics import accuracy_score, precision_score, recall_score, f1_score\n",
    "\n",
    "svm_rbf_random_search = joblib.load('svm_rbf_random_search.pkl')\n",
    "\n",
    "y_pred_subset = svm_rbf_random_search.predict(X_test_subset)\n",
    "\n",
    "accuracy = accuracy_score(y_test_subset, y_pred_subset)\n",
    "precision = precision_score(y_test_subset, y_pred_subset, average='macro')\n",
    "recall = recall_score(y_test_subset, y_pred_subset, average='macro')\n",
    "f1 = f1_score(y_test_subset, y_pred_subset, average='macro')\n",
    "\n",
    "print(f'Accuracy: {accuracy:.4f}')\n",
    "print(f'Precision: {precision:.4f}')\n",
    "print(f'Recall: {recall:.2f}')\n",
    "print(f'F1 Score: {f1:.4f}')\n"
   ]
  },
  {
   "cell_type": "code",
   "execution_count": null,
   "id": "ae88712a-290a-4f78-98d1-23a3fa924c2e",
   "metadata": {},
   "outputs": [],
   "source": []
  }
 ],
 "metadata": {
  "colab": {
   "machine_shape": "hm",
   "provenance": []
  },
  "kernelspec": {
   "display_name": "Python 3 (ipykernel)",
   "language": "python",
   "name": "python3"
  },
  "language_info": {
   "codemirror_mode": {
    "name": "ipython",
    "version": 3
   },
   "file_extension": ".py",
   "mimetype": "text/x-python",
   "name": "python",
   "nbconvert_exporter": "python",
   "pygments_lexer": "ipython3",
   "version": "3.12.4"
  }
 },
 "nbformat": 4,
 "nbformat_minor": 5
}
